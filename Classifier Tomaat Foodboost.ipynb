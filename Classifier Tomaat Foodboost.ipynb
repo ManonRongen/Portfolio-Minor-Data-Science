{
 "cells": [
  {
   "cell_type": "markdown",
   "id": "81ff6ad8",
   "metadata": {},
   "source": [
    "# Simpel Classification models\n",
    "In deze notebook wordt simpele voorspellingsmodellen gemaakt en getest. Het gaat hier om een classificaitie probleem: Het doel is om te voorspellen of er in een recept iets met tomaat (dus tomaten, maar ook tomatenpuree en zongedroogde tomaat bijvoorbeeld) zit."
   ]
  },
  {
   "cell_type": "markdown",
   "id": "d47aa2cf",
   "metadata": {},
   "source": [
    "### Imports"
   ]
  },
  {
   "cell_type": "code",
   "execution_count": 1,
   "id": "17ef8333",
   "metadata": {},
   "outputs": [],
   "source": [
    "import pandas as pd\n",
    "from IPython.display import display\n",
    "import matplotlib.pyplot as plt\n",
    "import numpy as np\n",
    "from sklearn.model_selection import train_test_split\n",
    "from sklearn.linear_model import LinearRegression, LogisticRegression\n",
    "from sklearn.neighbors import KNeighborsClassifier\n",
    "from sklearn.tree import DecisionTreeClassifier\n",
    "from sklearn.metrics import mean_squared_error, r2_score\n",
    "import pandas as pd\n",
    "import random\n",
    "from sklearn.metrics import recall_score, confusion_matrix, accuracy_score"
   ]
  },
  {
   "cell_type": "markdown",
   "id": "6c790b13",
   "metadata": {},
   "source": [
    "### Data inlezen\n",
    "We werken met de file ingredients, want daar staan alle recepten met ingredienten in. In dit model kijken we namelijk alleen naar de andere ingredienten uit een recept en niet naar tags of iets dergelijks."
   ]
  },
  {
   "cell_type": "code",
   "execution_count": 2,
   "id": "bcfa9aed",
   "metadata": {
    "scrolled": true
   },
   "outputs": [
    {
     "data": {
      "text/html": [
       "<div>\n",
       "<style scoped>\n",
       "    .dataframe tbody tr th:only-of-type {\n",
       "        vertical-align: middle;\n",
       "    }\n",
       "\n",
       "    .dataframe tbody tr th {\n",
       "        vertical-align: top;\n",
       "    }\n",
       "\n",
       "    .dataframe thead th {\n",
       "        text-align: right;\n",
       "    }\n",
       "</style>\n",
       "<table border=\"1\" class=\"dataframe\">\n",
       "  <thead>\n",
       "    <tr style=\"text-align: right;\">\n",
       "      <th></th>\n",
       "      <th>recipe</th>\n",
       "      <th>ingredient</th>\n",
       "      <th>quantity</th>\n",
       "      <th>unit</th>\n",
       "    </tr>\n",
       "  </thead>\n",
       "  <tbody>\n",
       "    <tr>\n",
       "      <th>0</th>\n",
       "      <td>Kruidnoten met choco-discodip</td>\n",
       "      <td>melkchocolade</td>\n",
       "      <td>100.0</td>\n",
       "      <td>g</td>\n",
       "    </tr>\n",
       "    <tr>\n",
       "      <th>1</th>\n",
       "      <td>Kruidnoten met choco-discodip</td>\n",
       "      <td>kruidnoten</td>\n",
       "      <td>100.0</td>\n",
       "      <td>g</td>\n",
       "    </tr>\n",
       "    <tr>\n",
       "      <th>2</th>\n",
       "      <td>Kruidnoten met choco-discodip</td>\n",
       "      <td>discodip</td>\n",
       "      <td>2.0</td>\n",
       "      <td>el</td>\n",
       "    </tr>\n",
       "    <tr>\n",
       "      <th>3</th>\n",
       "      <td>Kruidnoten in marsepein</td>\n",
       "      <td>blanke marsepein</td>\n",
       "      <td>150.0</td>\n",
       "      <td>g</td>\n",
       "    </tr>\n",
       "    <tr>\n",
       "      <th>4</th>\n",
       "      <td>Kruidnoten in marsepein</td>\n",
       "      <td>ongezouten roomboter</td>\n",
       "      <td>15.0</td>\n",
       "      <td>g</td>\n",
       "    </tr>\n",
       "    <tr>\n",
       "      <th>...</th>\n",
       "      <td>...</td>\n",
       "      <td>...</td>\n",
       "      <td>...</td>\n",
       "      <td>...</td>\n",
       "    </tr>\n",
       "    <tr>\n",
       "      <th>71804</th>\n",
       "      <td>Biefstuk met rodewijnsaus en ham</td>\n",
       "      <td>olijfolie</td>\n",
       "      <td>4.0</td>\n",
       "      <td>el</td>\n",
       "    </tr>\n",
       "    <tr>\n",
       "      <th>71805</th>\n",
       "      <td>Biefstuk met rodewijnsaus en ham</td>\n",
       "      <td>biefstukken</td>\n",
       "      <td>4.0</td>\n",
       "      <td>NaN</td>\n",
       "    </tr>\n",
       "    <tr>\n",
       "      <th>71806</th>\n",
       "      <td>Biefstuk met rodewijnsaus en ham</td>\n",
       "      <td>boter</td>\n",
       "      <td>25.0</td>\n",
       "      <td>g</td>\n",
       "    </tr>\n",
       "    <tr>\n",
       "      <th>71807</th>\n",
       "      <td>Biefstuk met rodewijnsaus en ham</td>\n",
       "      <td>serranoham</td>\n",
       "      <td>4.0</td>\n",
       "      <td>plakken</td>\n",
       "    </tr>\n",
       "    <tr>\n",
       "      <th>71808</th>\n",
       "      <td>Biefstuk met rodewijnsaus en ham</td>\n",
       "      <td>rode wijn</td>\n",
       "      <td>200.0</td>\n",
       "      <td>ml</td>\n",
       "    </tr>\n",
       "  </tbody>\n",
       "</table>\n",
       "<p>71809 rows × 4 columns</p>\n",
       "</div>"
      ],
      "text/plain": [
       "                                 recipe            ingredient  quantity  \\\n",
       "0         Kruidnoten met choco-discodip         melkchocolade     100.0   \n",
       "1         Kruidnoten met choco-discodip            kruidnoten     100.0   \n",
       "2         Kruidnoten met choco-discodip              discodip       2.0   \n",
       "3               Kruidnoten in marsepein      blanke marsepein     150.0   \n",
       "4               Kruidnoten in marsepein  ongezouten roomboter      15.0   \n",
       "...                                 ...                   ...       ...   \n",
       "71804  Biefstuk met rodewijnsaus en ham             olijfolie       4.0   \n",
       "71805  Biefstuk met rodewijnsaus en ham           biefstukken       4.0   \n",
       "71806  Biefstuk met rodewijnsaus en ham                 boter      25.0   \n",
       "71807  Biefstuk met rodewijnsaus en ham            serranoham       4.0   \n",
       "71808  Biefstuk met rodewijnsaus en ham             rode wijn     200.0   \n",
       "\n",
       "          unit  \n",
       "0            g  \n",
       "1            g  \n",
       "2           el  \n",
       "3            g  \n",
       "4            g  \n",
       "...        ...  \n",
       "71804       el  \n",
       "71805      NaN  \n",
       "71806        g  \n",
       "71807  plakken  \n",
       "71808       ml  \n",
       "\n",
       "[71809 rows x 4 columns]"
      ]
     },
     "execution_count": 2,
     "metadata": {},
     "output_type": "execute_result"
    }
   ],
   "source": [
    "ingredients_df = pd.read_csv(f\"/data/foodboost/ingredients.csv\", index_col = 0)\n",
    "ingredients_df"
   ]
  },
  {
   "cell_type": "markdown",
   "id": "34acc12f",
   "metadata": {},
   "source": [
    "### Onderzoeken naar tomaat in data\n",
    "Eerst gaan we de beschikbare data bestuderen. Hoe vaak komen er recepten voor die iets met tomaat bevatten"
   ]
  },
  {
   "cell_type": "code",
   "execution_count": 3,
   "id": "2e37cd15",
   "metadata": {},
   "outputs": [
    {
     "data": {
      "text/plain": [
       "145"
      ]
     },
     "execution_count": 3,
     "metadata": {},
     "output_type": "execute_result"
    }
   ],
   "source": [
    "ingredients_count = ingredients_df[ingredients_df['ingredient'] == 'tomaat']\n",
    "len(ingredients_count)"
   ]
  },
  {
   "cell_type": "code",
   "execution_count": 4,
   "id": "a0156cce",
   "metadata": {},
   "outputs": [
    {
     "data": {
      "text/plain": [
       "1880"
      ]
     },
     "execution_count": 4,
     "metadata": {},
     "output_type": "execute_result"
    }
   ],
   "source": [
    "list_tomaat = [a for a in ingredients_df['ingredient'] if \"toma\" in str(a)]\n",
    "len(list_tomaat)"
   ]
  },
  {
   "cell_type": "code",
   "execution_count": 5,
   "id": "d81b2900",
   "metadata": {},
   "outputs": [
    {
     "data": {
      "text/plain": [
       "194"
      ]
     },
     "execution_count": 5,
     "metadata": {},
     "output_type": "execute_result"
    }
   ],
   "source": [
    "u_list_tomaat = [*set(list_tomaat)]\n",
    "len(u_list_tomaat)"
   ]
  },
  {
   "cell_type": "markdown",
   "id": "dcde2273",
   "metadata": {},
   "source": [
    "Er komt dus 145 keer tomaat en 1880 keer een ingredient voor dat toma bevat, waar 194 verschillende ingredienten onder vallen. Dit zal niet altijd iets tomaatachtigs zijn, maar het grootste deel van de tijd wel. In dit voorbeeld worden al die ingredienten onder 1 categorie 'variant tomaat' geplaatst en gaat het model zometeen voorspellen of dit in een recept voorkomt."
   ]
  },
  {
   "cell_type": "code",
   "execution_count": 6,
   "id": "2b64551e",
   "metadata": {},
   "outputs": [],
   "source": [
    "# alle ingredienten met 'toma' vervangen voor 'variant tomaat'\n",
    "for i in range(len(ingredients_df)):\n",
    "    if ingredients_df.iloc[i][1] in u_list_tomaat:\n",
    "        ingredients_df['ingredient'] = ingredients_df['ingredient'].replace(ingredients_df.iloc[i][1], 'variant tomaat')"
   ]
  },
  {
   "cell_type": "code",
   "execution_count": 7,
   "id": "8513eb0e",
   "metadata": {},
   "outputs": [
    {
     "data": {
      "text/html": [
       "<div>\n",
       "<style scoped>\n",
       "    .dataframe tbody tr th:only-of-type {\n",
       "        vertical-align: middle;\n",
       "    }\n",
       "\n",
       "    .dataframe tbody tr th {\n",
       "        vertical-align: top;\n",
       "    }\n",
       "\n",
       "    .dataframe thead th {\n",
       "        text-align: right;\n",
       "    }\n",
       "</style>\n",
       "<table border=\"1\" class=\"dataframe\">\n",
       "  <thead>\n",
       "    <tr style=\"text-align: right;\">\n",
       "      <th></th>\n",
       "      <th>recipe</th>\n",
       "      <th>ingredient</th>\n",
       "      <th>quantity</th>\n",
       "      <th>unit</th>\n",
       "    </tr>\n",
       "  </thead>\n",
       "  <tbody>\n",
       "    <tr>\n",
       "      <th>125</th>\n",
       "      <td>Pico de gallo</td>\n",
       "      <td>variant tomaat</td>\n",
       "      <td>750.0</td>\n",
       "      <td>g</td>\n",
       "    </tr>\n",
       "    <tr>\n",
       "      <th>161</th>\n",
       "      <td>Koe loe kai</td>\n",
       "      <td>variant tomaat</td>\n",
       "      <td>700.0</td>\n",
       "      <td>g</td>\n",
       "    </tr>\n",
       "    <tr>\n",
       "      <th>165</th>\n",
       "      <td>Pasta pesto met kipstuckjes en tomatensalade</td>\n",
       "      <td>variant tomaat</td>\n",
       "      <td>5.0</td>\n",
       "      <td>NaN</td>\n",
       "    </tr>\n",
       "    <tr>\n",
       "      <th>188</th>\n",
       "      <td>Zoete aardappelstamppot met spruiten en vega g...</td>\n",
       "      <td>variant tomaat</td>\n",
       "      <td>195.0</td>\n",
       "      <td>g</td>\n",
       "    </tr>\n",
       "    <tr>\n",
       "      <th>194</th>\n",
       "      <td>'Kapsalon' met&amp;nbsp;vegetarische&amp;nbsp;kipshoar...</td>\n",
       "      <td>variant tomaat</td>\n",
       "      <td>250.0</td>\n",
       "      <td>g</td>\n",
       "    </tr>\n",
       "    <tr>\n",
       "      <th>...</th>\n",
       "      <td>...</td>\n",
       "      <td>...</td>\n",
       "      <td>...</td>\n",
       "      <td>...</td>\n",
       "    </tr>\n",
       "    <tr>\n",
       "      <th>71691</th>\n",
       "      <td>Ovenpasta met ei</td>\n",
       "      <td>variant tomaat</td>\n",
       "      <td>400.0</td>\n",
       "      <td>g</td>\n",
       "    </tr>\n",
       "    <tr>\n",
       "      <th>71699</th>\n",
       "      <td>Ratatouille met kabeljauwfilet</td>\n",
       "      <td>variant tomaat</td>\n",
       "      <td>250.0</td>\n",
       "      <td>g</td>\n",
       "    </tr>\n",
       "    <tr>\n",
       "      <th>71725</th>\n",
       "      <td>Romige spaghetti met zalmreepjes</td>\n",
       "      <td>variant tomaat</td>\n",
       "      <td>250.0</td>\n",
       "      <td>g</td>\n",
       "    </tr>\n",
       "    <tr>\n",
       "      <th>71750</th>\n",
       "      <td>Gegrilde auberginepakketjes van Esther</td>\n",
       "      <td>variant tomaat</td>\n",
       "      <td>2.0</td>\n",
       "      <td>NaN</td>\n",
       "    </tr>\n",
       "    <tr>\n",
       "      <th>71752</th>\n",
       "      <td>Gegrilde auberginepakketjes van Esther</td>\n",
       "      <td>variant tomaat</td>\n",
       "      <td>12.0</td>\n",
       "      <td>NaN</td>\n",
       "    </tr>\n",
       "  </tbody>\n",
       "</table>\n",
       "<p>1880 rows × 4 columns</p>\n",
       "</div>"
      ],
      "text/plain": [
       "                                                  recipe      ingredient  \\\n",
       "125                                        Pico de gallo  variant tomaat   \n",
       "161                                         Koe loe kai   variant tomaat   \n",
       "165         Pasta pesto met kipstuckjes en tomatensalade  variant tomaat   \n",
       "188    Zoete aardappelstamppot met spruiten en vega g...  variant tomaat   \n",
       "194    'Kapsalon' met&nbsp;vegetarische&nbsp;kipshoar...  variant tomaat   \n",
       "...                                                  ...             ...   \n",
       "71691                                   Ovenpasta met ei  variant tomaat   \n",
       "71699                     Ratatouille met kabeljauwfilet  variant tomaat   \n",
       "71725                   Romige spaghetti met zalmreepjes  variant tomaat   \n",
       "71750             Gegrilde auberginepakketjes van Esther  variant tomaat   \n",
       "71752             Gegrilde auberginepakketjes van Esther  variant tomaat   \n",
       "\n",
       "       quantity unit  \n",
       "125       750.0    g  \n",
       "161       700.0    g  \n",
       "165         5.0  NaN  \n",
       "188       195.0    g  \n",
       "194       250.0    g  \n",
       "...         ...  ...  \n",
       "71691     400.0    g  \n",
       "71699     250.0    g  \n",
       "71725     250.0    g  \n",
       "71750       2.0  NaN  \n",
       "71752      12.0  NaN  \n",
       "\n",
       "[1880 rows x 4 columns]"
      ]
     },
     "execution_count": 7,
     "metadata": {},
     "output_type": "execute_result"
    }
   ],
   "source": [
    "ingredients_df[ingredients_df['ingredient'] == 'variant tomaat']"
   ]
  },
  {
   "cell_type": "markdown",
   "id": "7aea916b",
   "metadata": {},
   "source": [
    "### Omzetten van categorische data naar dummy data\n",
    "Hieronder wordt een matrix gecreëerd met 0en en 1en. Hier staan de recepten als rijen en de kolommen zijn alle ingredienten die voorkomen in deze recepten. Deze data voorbereiding moet worden gedaan zodat het classificatie model met de data kan werken, want die moet nummerieke data hebben."
   ]
  },
  {
   "cell_type": "code",
   "execution_count": 8,
   "id": "70cdd45f",
   "metadata": {},
   "outputs": [],
   "source": [
    "# functie matrix maken bij df\n",
    "def make_matrix(df, list_indexnames, list_columnnames, index_col_indexnames, index_col_columnnames):\n",
    "    matrix = pd.DataFrame(0, list_indexnames, list_columnnames)\n",
    "    for i in range(len(df)):\n",
    "        a = df.iloc[i][int(index_col_columnnames)]\n",
    "        b = df.iloc[i][int(index_col_indexnames)]\n",
    "        index_a = list_columnnames.index(a)\n",
    "        index_b = list_indexnames.index(b)\n",
    "        matrix.iloc[index_b][index_a] = 1\n",
    "    return matrix"
   ]
  },
  {
   "cell_type": "code",
   "execution_count": 9,
   "id": "fa4af3dc",
   "metadata": {},
   "outputs": [],
   "source": [
    "ingredients_list = ingredients_df['ingredient'].unique().tolist()\n",
    "recipes_list = ingredients_df['recipe'].unique().tolist()\n",
    "\n",
    "ingr_matrix = make_matrix(ingredients_df, recipes_list, ingredients_list, 0, 1)"
   ]
  },
  {
   "cell_type": "code",
   "execution_count": 10,
   "id": "acf679a4",
   "metadata": {},
   "outputs": [
    {
     "data": {
      "text/html": [
       "<div>\n",
       "<style scoped>\n",
       "    .dataframe tbody tr th:only-of-type {\n",
       "        vertical-align: middle;\n",
       "    }\n",
       "\n",
       "    .dataframe tbody tr th {\n",
       "        vertical-align: top;\n",
       "    }\n",
       "\n",
       "    .dataframe thead th {\n",
       "        text-align: right;\n",
       "    }\n",
       "</style>\n",
       "<table border=\"1\" class=\"dataframe\">\n",
       "  <thead>\n",
       "    <tr style=\"text-align: right;\">\n",
       "      <th></th>\n",
       "      <th>melkchocolade</th>\n",
       "      <th>kruidnoten</th>\n",
       "      <th>discodip</th>\n",
       "      <th>blanke marsepein</th>\n",
       "      <th>ongezouten roomboter</th>\n",
       "      <th>nougatine in bakje</th>\n",
       "      <th>pure chocolade</th>\n",
       "      <th>cacaopoeder</th>\n",
       "      <th>hagelslag puur</th>\n",
       "      <th>witte basterdsuiker</th>\n",
       "      <th>...</th>\n",
       "      <th>goudreinetten</th>\n",
       "      <th>gemengde kruiden</th>\n",
       "      <th>Garden Gourmet falafelburger</th>\n",
       "      <th>prei a la creme deelblokjes</th>\n",
       "      <th>boomgaardsap peer</th>\n",
       "      <th>zalmreepjes</th>\n",
       "      <th>rodekool met appel</th>\n",
       "      <th>friszoete appels</th>\n",
       "      <th>winterpenen</th>\n",
       "      <th>Blooker cacaopoeder</th>\n",
       "    </tr>\n",
       "  </thead>\n",
       "  <tbody>\n",
       "    <tr>\n",
       "      <th>Kruidnoten met choco-discodip</th>\n",
       "      <td>1</td>\n",
       "      <td>1</td>\n",
       "      <td>1</td>\n",
       "      <td>0</td>\n",
       "      <td>0</td>\n",
       "      <td>0</td>\n",
       "      <td>0</td>\n",
       "      <td>0</td>\n",
       "      <td>0</td>\n",
       "      <td>0</td>\n",
       "      <td>...</td>\n",
       "      <td>0</td>\n",
       "      <td>0</td>\n",
       "      <td>0</td>\n",
       "      <td>0</td>\n",
       "      <td>0</td>\n",
       "      <td>0</td>\n",
       "      <td>0</td>\n",
       "      <td>0</td>\n",
       "      <td>0</td>\n",
       "      <td>0</td>\n",
       "    </tr>\n",
       "    <tr>\n",
       "      <th>Kruidnoten in marsepein</th>\n",
       "      <td>0</td>\n",
       "      <td>1</td>\n",
       "      <td>0</td>\n",
       "      <td>1</td>\n",
       "      <td>1</td>\n",
       "      <td>1</td>\n",
       "      <td>0</td>\n",
       "      <td>0</td>\n",
       "      <td>0</td>\n",
       "      <td>0</td>\n",
       "      <td>...</td>\n",
       "      <td>0</td>\n",
       "      <td>0</td>\n",
       "      <td>0</td>\n",
       "      <td>0</td>\n",
       "      <td>0</td>\n",
       "      <td>0</td>\n",
       "      <td>0</td>\n",
       "      <td>0</td>\n",
       "      <td>0</td>\n",
       "      <td>0</td>\n",
       "    </tr>\n",
       "    <tr>\n",
       "      <th>Kruidnoten met chocodips</th>\n",
       "      <td>0</td>\n",
       "      <td>1</td>\n",
       "      <td>0</td>\n",
       "      <td>0</td>\n",
       "      <td>1</td>\n",
       "      <td>0</td>\n",
       "      <td>1</td>\n",
       "      <td>1</td>\n",
       "      <td>1</td>\n",
       "      <td>0</td>\n",
       "      <td>...</td>\n",
       "      <td>0</td>\n",
       "      <td>0</td>\n",
       "      <td>0</td>\n",
       "      <td>0</td>\n",
       "      <td>0</td>\n",
       "      <td>0</td>\n",
       "      <td>0</td>\n",
       "      <td>0</td>\n",
       "      <td>0</td>\n",
       "      <td>0</td>\n",
       "    </tr>\n",
       "    <tr>\n",
       "      <th>Pepernotentaart met marsepeinstrik</th>\n",
       "      <td>0</td>\n",
       "      <td>1</td>\n",
       "      <td>0</td>\n",
       "      <td>0</td>\n",
       "      <td>1</td>\n",
       "      <td>0</td>\n",
       "      <td>0</td>\n",
       "      <td>0</td>\n",
       "      <td>0</td>\n",
       "      <td>1</td>\n",
       "      <td>...</td>\n",
       "      <td>0</td>\n",
       "      <td>0</td>\n",
       "      <td>0</td>\n",
       "      <td>0</td>\n",
       "      <td>0</td>\n",
       "      <td>0</td>\n",
       "      <td>0</td>\n",
       "      <td>0</td>\n",
       "      <td>0</td>\n",
       "      <td>0</td>\n",
       "    </tr>\n",
       "    <tr>\n",
       "      <th>Perencake</th>\n",
       "      <td>0</td>\n",
       "      <td>0</td>\n",
       "      <td>0</td>\n",
       "      <td>0</td>\n",
       "      <td>0</td>\n",
       "      <td>0</td>\n",
       "      <td>0</td>\n",
       "      <td>0</td>\n",
       "      <td>0</td>\n",
       "      <td>0</td>\n",
       "      <td>...</td>\n",
       "      <td>0</td>\n",
       "      <td>0</td>\n",
       "      <td>0</td>\n",
       "      <td>0</td>\n",
       "      <td>0</td>\n",
       "      <td>0</td>\n",
       "      <td>0</td>\n",
       "      <td>0</td>\n",
       "      <td>0</td>\n",
       "      <td>0</td>\n",
       "    </tr>\n",
       "    <tr>\n",
       "      <th>...</th>\n",
       "      <td>...</td>\n",
       "      <td>...</td>\n",
       "      <td>...</td>\n",
       "      <td>...</td>\n",
       "      <td>...</td>\n",
       "      <td>...</td>\n",
       "      <td>...</td>\n",
       "      <td>...</td>\n",
       "      <td>...</td>\n",
       "      <td>...</td>\n",
       "      <td>...</td>\n",
       "      <td>...</td>\n",
       "      <td>...</td>\n",
       "      <td>...</td>\n",
       "      <td>...</td>\n",
       "      <td>...</td>\n",
       "      <td>...</td>\n",
       "      <td>...</td>\n",
       "      <td>...</td>\n",
       "      <td>...</td>\n",
       "      <td>...</td>\n",
       "    </tr>\n",
       "    <tr>\n",
       "      <th>Paddenstoelen en courgettegratin</th>\n",
       "      <td>0</td>\n",
       "      <td>0</td>\n",
       "      <td>0</td>\n",
       "      <td>0</td>\n",
       "      <td>0</td>\n",
       "      <td>0</td>\n",
       "      <td>0</td>\n",
       "      <td>0</td>\n",
       "      <td>0</td>\n",
       "      <td>0</td>\n",
       "      <td>...</td>\n",
       "      <td>0</td>\n",
       "      <td>0</td>\n",
       "      <td>0</td>\n",
       "      <td>0</td>\n",
       "      <td>0</td>\n",
       "      <td>0</td>\n",
       "      <td>0</td>\n",
       "      <td>0</td>\n",
       "      <td>0</td>\n",
       "      <td>0</td>\n",
       "    </tr>\n",
       "    <tr>\n",
       "      <th>Peren-amandelcoupe</th>\n",
       "      <td>0</td>\n",
       "      <td>0</td>\n",
       "      <td>0</td>\n",
       "      <td>0</td>\n",
       "      <td>0</td>\n",
       "      <td>0</td>\n",
       "      <td>0</td>\n",
       "      <td>0</td>\n",
       "      <td>0</td>\n",
       "      <td>0</td>\n",
       "      <td>...</td>\n",
       "      <td>0</td>\n",
       "      <td>0</td>\n",
       "      <td>0</td>\n",
       "      <td>0</td>\n",
       "      <td>0</td>\n",
       "      <td>0</td>\n",
       "      <td>0</td>\n",
       "      <td>0</td>\n",
       "      <td>0</td>\n",
       "      <td>0</td>\n",
       "    </tr>\n",
       "    <tr>\n",
       "      <th>Ceviche met sint-jakobsschelpen</th>\n",
       "      <td>0</td>\n",
       "      <td>0</td>\n",
       "      <td>0</td>\n",
       "      <td>0</td>\n",
       "      <td>0</td>\n",
       "      <td>0</td>\n",
       "      <td>0</td>\n",
       "      <td>0</td>\n",
       "      <td>0</td>\n",
       "      <td>0</td>\n",
       "      <td>...</td>\n",
       "      <td>0</td>\n",
       "      <td>0</td>\n",
       "      <td>0</td>\n",
       "      <td>0</td>\n",
       "      <td>0</td>\n",
       "      <td>0</td>\n",
       "      <td>0</td>\n",
       "      <td>0</td>\n",
       "      <td>0</td>\n",
       "      <td>0</td>\n",
       "    </tr>\n",
       "    <tr>\n",
       "      <th>Pittige truffels</th>\n",
       "      <td>0</td>\n",
       "      <td>0</td>\n",
       "      <td>0</td>\n",
       "      <td>0</td>\n",
       "      <td>1</td>\n",
       "      <td>0</td>\n",
       "      <td>0</td>\n",
       "      <td>0</td>\n",
       "      <td>0</td>\n",
       "      <td>0</td>\n",
       "      <td>...</td>\n",
       "      <td>0</td>\n",
       "      <td>0</td>\n",
       "      <td>0</td>\n",
       "      <td>0</td>\n",
       "      <td>0</td>\n",
       "      <td>0</td>\n",
       "      <td>0</td>\n",
       "      <td>0</td>\n",
       "      <td>0</td>\n",
       "      <td>1</td>\n",
       "    </tr>\n",
       "    <tr>\n",
       "      <th>Biefstuk met rodewijnsaus en ham</th>\n",
       "      <td>0</td>\n",
       "      <td>0</td>\n",
       "      <td>0</td>\n",
       "      <td>0</td>\n",
       "      <td>0</td>\n",
       "      <td>0</td>\n",
       "      <td>0</td>\n",
       "      <td>0</td>\n",
       "      <td>0</td>\n",
       "      <td>0</td>\n",
       "      <td>...</td>\n",
       "      <td>0</td>\n",
       "      <td>0</td>\n",
       "      <td>0</td>\n",
       "      <td>0</td>\n",
       "      <td>0</td>\n",
       "      <td>0</td>\n",
       "      <td>0</td>\n",
       "      <td>0</td>\n",
       "      <td>0</td>\n",
       "      <td>0</td>\n",
       "    </tr>\n",
       "  </tbody>\n",
       "</table>\n",
       "<p>8706 rows × 7011 columns</p>\n",
       "</div>"
      ],
      "text/plain": [
       "                                    melkchocolade  kruidnoten  discodip  \\\n",
       "Kruidnoten met choco-discodip                   1           1         1   \n",
       "Kruidnoten in marsepein                         0           1         0   \n",
       "Kruidnoten met chocodips                        0           1         0   \n",
       "Pepernotentaart met marsepeinstrik              0           1         0   \n",
       "Perencake                                       0           0         0   \n",
       "...                                           ...         ...       ...   \n",
       "Paddenstoelen en courgettegratin                0           0         0   \n",
       "Peren-amandelcoupe                              0           0         0   \n",
       "Ceviche met sint-jakobsschelpen                 0           0         0   \n",
       "Pittige truffels                                0           0         0   \n",
       "Biefstuk met rodewijnsaus en ham                0           0         0   \n",
       "\n",
       "                                    blanke marsepein  ongezouten roomboter  \\\n",
       "Kruidnoten met choco-discodip                      0                     0   \n",
       "Kruidnoten in marsepein                            1                     1   \n",
       "Kruidnoten met chocodips                           0                     1   \n",
       "Pepernotentaart met marsepeinstrik                 0                     1   \n",
       "Perencake                                          0                     0   \n",
       "...                                              ...                   ...   \n",
       "Paddenstoelen en courgettegratin                   0                     0   \n",
       "Peren-amandelcoupe                                 0                     0   \n",
       "Ceviche met sint-jakobsschelpen                    0                     0   \n",
       "Pittige truffels                                   0                     1   \n",
       "Biefstuk met rodewijnsaus en ham                   0                     0   \n",
       "\n",
       "                                    nougatine in bakje  pure chocolade  \\\n",
       "Kruidnoten met choco-discodip                        0               0   \n",
       "Kruidnoten in marsepein                              1               0   \n",
       "Kruidnoten met chocodips                             0               1   \n",
       "Pepernotentaart met marsepeinstrik                   0               0   \n",
       "Perencake                                            0               0   \n",
       "...                                                ...             ...   \n",
       "Paddenstoelen en courgettegratin                     0               0   \n",
       "Peren-amandelcoupe                                   0               0   \n",
       "Ceviche met sint-jakobsschelpen                      0               0   \n",
       "Pittige truffels                                     0               0   \n",
       "Biefstuk met rodewijnsaus en ham                     0               0   \n",
       "\n",
       "                                    cacaopoeder  hagelslag puur  \\\n",
       "Kruidnoten met choco-discodip                 0               0   \n",
       "Kruidnoten in marsepein                       0               0   \n",
       "Kruidnoten met chocodips                      1               1   \n",
       "Pepernotentaart met marsepeinstrik            0               0   \n",
       "Perencake                                     0               0   \n",
       "...                                         ...             ...   \n",
       "Paddenstoelen en courgettegratin              0               0   \n",
       "Peren-amandelcoupe                            0               0   \n",
       "Ceviche met sint-jakobsschelpen               0               0   \n",
       "Pittige truffels                              0               0   \n",
       "Biefstuk met rodewijnsaus en ham              0               0   \n",
       "\n",
       "                                    witte basterdsuiker  ...  goudreinetten  \\\n",
       "Kruidnoten met choco-discodip                         0  ...              0   \n",
       "Kruidnoten in marsepein                               0  ...              0   \n",
       "Kruidnoten met chocodips                              0  ...              0   \n",
       "Pepernotentaart met marsepeinstrik                    1  ...              0   \n",
       "Perencake                                             0  ...              0   \n",
       "...                                                 ...  ...            ...   \n",
       "Paddenstoelen en courgettegratin                      0  ...              0   \n",
       "Peren-amandelcoupe                                    0  ...              0   \n",
       "Ceviche met sint-jakobsschelpen                       0  ...              0   \n",
       "Pittige truffels                                      0  ...              0   \n",
       "Biefstuk met rodewijnsaus en ham                      0  ...              0   \n",
       "\n",
       "                                    gemengde kruiden  \\\n",
       "Kruidnoten met choco-discodip                      0   \n",
       "Kruidnoten in marsepein                            0   \n",
       "Kruidnoten met chocodips                           0   \n",
       "Pepernotentaart met marsepeinstrik                 0   \n",
       "Perencake                                          0   \n",
       "...                                              ...   \n",
       "Paddenstoelen en courgettegratin                   0   \n",
       "Peren-amandelcoupe                                 0   \n",
       "Ceviche met sint-jakobsschelpen                    0   \n",
       "Pittige truffels                                   0   \n",
       "Biefstuk met rodewijnsaus en ham                   0   \n",
       "\n",
       "                                    Garden Gourmet falafelburger  \\\n",
       "Kruidnoten met choco-discodip                                  0   \n",
       "Kruidnoten in marsepein                                        0   \n",
       "Kruidnoten met chocodips                                       0   \n",
       "Pepernotentaart met marsepeinstrik                             0   \n",
       "Perencake                                                      0   \n",
       "...                                                          ...   \n",
       "Paddenstoelen en courgettegratin                               0   \n",
       "Peren-amandelcoupe                                             0   \n",
       "Ceviche met sint-jakobsschelpen                                0   \n",
       "Pittige truffels                                               0   \n",
       "Biefstuk met rodewijnsaus en ham                               0   \n",
       "\n",
       "                                    prei a la creme deelblokjes  \\\n",
       "Kruidnoten met choco-discodip                                 0   \n",
       "Kruidnoten in marsepein                                       0   \n",
       "Kruidnoten met chocodips                                      0   \n",
       "Pepernotentaart met marsepeinstrik                            0   \n",
       "Perencake                                                     0   \n",
       "...                                                         ...   \n",
       "Paddenstoelen en courgettegratin                              0   \n",
       "Peren-amandelcoupe                                            0   \n",
       "Ceviche met sint-jakobsschelpen                               0   \n",
       "Pittige truffels                                              0   \n",
       "Biefstuk met rodewijnsaus en ham                              0   \n",
       "\n",
       "                                    boomgaardsap peer  zalmreepjes  \\\n",
       "Kruidnoten met choco-discodip                       0            0   \n",
       "Kruidnoten in marsepein                             0            0   \n",
       "Kruidnoten met chocodips                            0            0   \n",
       "Pepernotentaart met marsepeinstrik                  0            0   \n",
       "Perencake                                           0            0   \n",
       "...                                               ...          ...   \n",
       "Paddenstoelen en courgettegratin                    0            0   \n",
       "Peren-amandelcoupe                                  0            0   \n",
       "Ceviche met sint-jakobsschelpen                     0            0   \n",
       "Pittige truffels                                    0            0   \n",
       "Biefstuk met rodewijnsaus en ham                    0            0   \n",
       "\n",
       "                                    rodekool met appel  friszoete appels  \\\n",
       "Kruidnoten met choco-discodip                        0                 0   \n",
       "Kruidnoten in marsepein                              0                 0   \n",
       "Kruidnoten met chocodips                             0                 0   \n",
       "Pepernotentaart met marsepeinstrik                   0                 0   \n",
       "Perencake                                            0                 0   \n",
       "...                                                ...               ...   \n",
       "Paddenstoelen en courgettegratin                     0                 0   \n",
       "Peren-amandelcoupe                                   0                 0   \n",
       "Ceviche met sint-jakobsschelpen                      0                 0   \n",
       "Pittige truffels                                     0                 0   \n",
       "Biefstuk met rodewijnsaus en ham                     0                 0   \n",
       "\n",
       "                                    winterpenen  Blooker cacaopoeder  \n",
       "Kruidnoten met choco-discodip                 0                    0  \n",
       "Kruidnoten in marsepein                       0                    0  \n",
       "Kruidnoten met chocodips                      0                    0  \n",
       "Pepernotentaart met marsepeinstrik            0                    0  \n",
       "Perencake                                     0                    0  \n",
       "...                                         ...                  ...  \n",
       "Paddenstoelen en courgettegratin              0                    0  \n",
       "Peren-amandelcoupe                            0                    0  \n",
       "Ceviche met sint-jakobsschelpen               0                    0  \n",
       "Pittige truffels                              0                    1  \n",
       "Biefstuk met rodewijnsaus en ham              0                    0  \n",
       "\n",
       "[8706 rows x 7011 columns]"
      ]
     },
     "execution_count": 10,
     "metadata": {},
     "output_type": "execute_result"
    }
   ],
   "source": [
    "ingr_matrix"
   ]
  },
  {
   "cell_type": "markdown",
   "id": "46facb0f",
   "metadata": {},
   "source": [
    "### Model en Trainen\n",
    "We creëren een doelvariabele: y en voorspellende variabele: X. Ook wordt de data in een train en test set gesplitst. Daarna gaan we het model fitten op de traindata."
   ]
  },
  {
   "cell_type": "markdown",
   "id": "917ad97f",
   "metadata": {},
   "source": [
    "de y is een kolom met de info of er wel of niet 'variant tomaat' in het recept zit:"
   ]
  },
  {
   "cell_type": "code",
   "execution_count": 11,
   "id": "c7a0c15f",
   "metadata": {},
   "outputs": [
    {
     "data": {
      "text/html": [
       "<div>\n",
       "<style scoped>\n",
       "    .dataframe tbody tr th:only-of-type {\n",
       "        vertical-align: middle;\n",
       "    }\n",
       "\n",
       "    .dataframe tbody tr th {\n",
       "        vertical-align: top;\n",
       "    }\n",
       "\n",
       "    .dataframe thead th {\n",
       "        text-align: right;\n",
       "    }\n",
       "</style>\n",
       "<table border=\"1\" class=\"dataframe\">\n",
       "  <thead>\n",
       "    <tr style=\"text-align: right;\">\n",
       "      <th></th>\n",
       "      <th>variant tomaat</th>\n",
       "    </tr>\n",
       "  </thead>\n",
       "  <tbody>\n",
       "    <tr>\n",
       "      <th>Kruidnoten met choco-discodip</th>\n",
       "      <td>0</td>\n",
       "    </tr>\n",
       "    <tr>\n",
       "      <th>Kruidnoten in marsepein</th>\n",
       "      <td>0</td>\n",
       "    </tr>\n",
       "    <tr>\n",
       "      <th>Kruidnoten met chocodips</th>\n",
       "      <td>0</td>\n",
       "    </tr>\n",
       "    <tr>\n",
       "      <th>Pepernotentaart met marsepeinstrik</th>\n",
       "      <td>0</td>\n",
       "    </tr>\n",
       "    <tr>\n",
       "      <th>Perencake</th>\n",
       "      <td>0</td>\n",
       "    </tr>\n",
       "    <tr>\n",
       "      <th>...</th>\n",
       "      <td>...</td>\n",
       "    </tr>\n",
       "    <tr>\n",
       "      <th>Paddenstoelen en courgettegratin</th>\n",
       "      <td>0</td>\n",
       "    </tr>\n",
       "    <tr>\n",
       "      <th>Peren-amandelcoupe</th>\n",
       "      <td>0</td>\n",
       "    </tr>\n",
       "    <tr>\n",
       "      <th>Ceviche met sint-jakobsschelpen</th>\n",
       "      <td>0</td>\n",
       "    </tr>\n",
       "    <tr>\n",
       "      <th>Pittige truffels</th>\n",
       "      <td>0</td>\n",
       "    </tr>\n",
       "    <tr>\n",
       "      <th>Biefstuk met rodewijnsaus en ham</th>\n",
       "      <td>0</td>\n",
       "    </tr>\n",
       "  </tbody>\n",
       "</table>\n",
       "<p>8706 rows × 1 columns</p>\n",
       "</div>"
      ],
      "text/plain": [
       "                                    variant tomaat\n",
       "Kruidnoten met choco-discodip                    0\n",
       "Kruidnoten in marsepein                          0\n",
       "Kruidnoten met chocodips                         0\n",
       "Pepernotentaart met marsepeinstrik               0\n",
       "Perencake                                        0\n",
       "...                                            ...\n",
       "Paddenstoelen en courgettegratin                 0\n",
       "Peren-amandelcoupe                               0\n",
       "Ceviche met sint-jakobsschelpen                  0\n",
       "Pittige truffels                                 0\n",
       "Biefstuk met rodewijnsaus en ham                 0\n",
       "\n",
       "[8706 rows x 1 columns]"
      ]
     },
     "execution_count": 11,
     "metadata": {},
     "output_type": "execute_result"
    }
   ],
   "source": [
    "# 0 als variant tomaat er niet in zit, 1 als het er wel in zit\n",
    "y = ingr_matrix['variant tomaat'].to_frame()\n",
    "y"
   ]
  },
  {
   "cell_type": "markdown",
   "id": "ae5f7bef",
   "metadata": {},
   "source": [
    "X zijn alle andere ingredienten van de recepten, dus de df/matrix zonder de y-kolom."
   ]
  },
  {
   "cell_type": "code",
   "execution_count": 12,
   "id": "fb44bd86",
   "metadata": {},
   "outputs": [
    {
     "data": {
      "text/html": [
       "<div>\n",
       "<style scoped>\n",
       "    .dataframe tbody tr th:only-of-type {\n",
       "        vertical-align: middle;\n",
       "    }\n",
       "\n",
       "    .dataframe tbody tr th {\n",
       "        vertical-align: top;\n",
       "    }\n",
       "\n",
       "    .dataframe thead th {\n",
       "        text-align: right;\n",
       "    }\n",
       "</style>\n",
       "<table border=\"1\" class=\"dataframe\">\n",
       "  <thead>\n",
       "    <tr style=\"text-align: right;\">\n",
       "      <th></th>\n",
       "      <th>melkchocolade</th>\n",
       "      <th>kruidnoten</th>\n",
       "      <th>discodip</th>\n",
       "      <th>blanke marsepein</th>\n",
       "      <th>ongezouten roomboter</th>\n",
       "      <th>nougatine in bakje</th>\n",
       "      <th>pure chocolade</th>\n",
       "      <th>cacaopoeder</th>\n",
       "      <th>hagelslag puur</th>\n",
       "      <th>witte basterdsuiker</th>\n",
       "      <th>...</th>\n",
       "      <th>goudreinetten</th>\n",
       "      <th>gemengde kruiden</th>\n",
       "      <th>Garden Gourmet falafelburger</th>\n",
       "      <th>prei a la creme deelblokjes</th>\n",
       "      <th>boomgaardsap peer</th>\n",
       "      <th>zalmreepjes</th>\n",
       "      <th>rodekool met appel</th>\n",
       "      <th>friszoete appels</th>\n",
       "      <th>winterpenen</th>\n",
       "      <th>Blooker cacaopoeder</th>\n",
       "    </tr>\n",
       "  </thead>\n",
       "  <tbody>\n",
       "    <tr>\n",
       "      <th>Kruidnoten met choco-discodip</th>\n",
       "      <td>1</td>\n",
       "      <td>1</td>\n",
       "      <td>1</td>\n",
       "      <td>0</td>\n",
       "      <td>0</td>\n",
       "      <td>0</td>\n",
       "      <td>0</td>\n",
       "      <td>0</td>\n",
       "      <td>0</td>\n",
       "      <td>0</td>\n",
       "      <td>...</td>\n",
       "      <td>0</td>\n",
       "      <td>0</td>\n",
       "      <td>0</td>\n",
       "      <td>0</td>\n",
       "      <td>0</td>\n",
       "      <td>0</td>\n",
       "      <td>0</td>\n",
       "      <td>0</td>\n",
       "      <td>0</td>\n",
       "      <td>0</td>\n",
       "    </tr>\n",
       "    <tr>\n",
       "      <th>Kruidnoten in marsepein</th>\n",
       "      <td>0</td>\n",
       "      <td>1</td>\n",
       "      <td>0</td>\n",
       "      <td>1</td>\n",
       "      <td>1</td>\n",
       "      <td>1</td>\n",
       "      <td>0</td>\n",
       "      <td>0</td>\n",
       "      <td>0</td>\n",
       "      <td>0</td>\n",
       "      <td>...</td>\n",
       "      <td>0</td>\n",
       "      <td>0</td>\n",
       "      <td>0</td>\n",
       "      <td>0</td>\n",
       "      <td>0</td>\n",
       "      <td>0</td>\n",
       "      <td>0</td>\n",
       "      <td>0</td>\n",
       "      <td>0</td>\n",
       "      <td>0</td>\n",
       "    </tr>\n",
       "    <tr>\n",
       "      <th>Kruidnoten met chocodips</th>\n",
       "      <td>0</td>\n",
       "      <td>1</td>\n",
       "      <td>0</td>\n",
       "      <td>0</td>\n",
       "      <td>1</td>\n",
       "      <td>0</td>\n",
       "      <td>1</td>\n",
       "      <td>1</td>\n",
       "      <td>1</td>\n",
       "      <td>0</td>\n",
       "      <td>...</td>\n",
       "      <td>0</td>\n",
       "      <td>0</td>\n",
       "      <td>0</td>\n",
       "      <td>0</td>\n",
       "      <td>0</td>\n",
       "      <td>0</td>\n",
       "      <td>0</td>\n",
       "      <td>0</td>\n",
       "      <td>0</td>\n",
       "      <td>0</td>\n",
       "    </tr>\n",
       "    <tr>\n",
       "      <th>Pepernotentaart met marsepeinstrik</th>\n",
       "      <td>0</td>\n",
       "      <td>1</td>\n",
       "      <td>0</td>\n",
       "      <td>0</td>\n",
       "      <td>1</td>\n",
       "      <td>0</td>\n",
       "      <td>0</td>\n",
       "      <td>0</td>\n",
       "      <td>0</td>\n",
       "      <td>1</td>\n",
       "      <td>...</td>\n",
       "      <td>0</td>\n",
       "      <td>0</td>\n",
       "      <td>0</td>\n",
       "      <td>0</td>\n",
       "      <td>0</td>\n",
       "      <td>0</td>\n",
       "      <td>0</td>\n",
       "      <td>0</td>\n",
       "      <td>0</td>\n",
       "      <td>0</td>\n",
       "    </tr>\n",
       "    <tr>\n",
       "      <th>Perencake</th>\n",
       "      <td>0</td>\n",
       "      <td>0</td>\n",
       "      <td>0</td>\n",
       "      <td>0</td>\n",
       "      <td>0</td>\n",
       "      <td>0</td>\n",
       "      <td>0</td>\n",
       "      <td>0</td>\n",
       "      <td>0</td>\n",
       "      <td>0</td>\n",
       "      <td>...</td>\n",
       "      <td>0</td>\n",
       "      <td>0</td>\n",
       "      <td>0</td>\n",
       "      <td>0</td>\n",
       "      <td>0</td>\n",
       "      <td>0</td>\n",
       "      <td>0</td>\n",
       "      <td>0</td>\n",
       "      <td>0</td>\n",
       "      <td>0</td>\n",
       "    </tr>\n",
       "    <tr>\n",
       "      <th>...</th>\n",
       "      <td>...</td>\n",
       "      <td>...</td>\n",
       "      <td>...</td>\n",
       "      <td>...</td>\n",
       "      <td>...</td>\n",
       "      <td>...</td>\n",
       "      <td>...</td>\n",
       "      <td>...</td>\n",
       "      <td>...</td>\n",
       "      <td>...</td>\n",
       "      <td>...</td>\n",
       "      <td>...</td>\n",
       "      <td>...</td>\n",
       "      <td>...</td>\n",
       "      <td>...</td>\n",
       "      <td>...</td>\n",
       "      <td>...</td>\n",
       "      <td>...</td>\n",
       "      <td>...</td>\n",
       "      <td>...</td>\n",
       "      <td>...</td>\n",
       "    </tr>\n",
       "    <tr>\n",
       "      <th>Paddenstoelen en courgettegratin</th>\n",
       "      <td>0</td>\n",
       "      <td>0</td>\n",
       "      <td>0</td>\n",
       "      <td>0</td>\n",
       "      <td>0</td>\n",
       "      <td>0</td>\n",
       "      <td>0</td>\n",
       "      <td>0</td>\n",
       "      <td>0</td>\n",
       "      <td>0</td>\n",
       "      <td>...</td>\n",
       "      <td>0</td>\n",
       "      <td>0</td>\n",
       "      <td>0</td>\n",
       "      <td>0</td>\n",
       "      <td>0</td>\n",
       "      <td>0</td>\n",
       "      <td>0</td>\n",
       "      <td>0</td>\n",
       "      <td>0</td>\n",
       "      <td>0</td>\n",
       "    </tr>\n",
       "    <tr>\n",
       "      <th>Peren-amandelcoupe</th>\n",
       "      <td>0</td>\n",
       "      <td>0</td>\n",
       "      <td>0</td>\n",
       "      <td>0</td>\n",
       "      <td>0</td>\n",
       "      <td>0</td>\n",
       "      <td>0</td>\n",
       "      <td>0</td>\n",
       "      <td>0</td>\n",
       "      <td>0</td>\n",
       "      <td>...</td>\n",
       "      <td>0</td>\n",
       "      <td>0</td>\n",
       "      <td>0</td>\n",
       "      <td>0</td>\n",
       "      <td>0</td>\n",
       "      <td>0</td>\n",
       "      <td>0</td>\n",
       "      <td>0</td>\n",
       "      <td>0</td>\n",
       "      <td>0</td>\n",
       "    </tr>\n",
       "    <tr>\n",
       "      <th>Ceviche met sint-jakobsschelpen</th>\n",
       "      <td>0</td>\n",
       "      <td>0</td>\n",
       "      <td>0</td>\n",
       "      <td>0</td>\n",
       "      <td>0</td>\n",
       "      <td>0</td>\n",
       "      <td>0</td>\n",
       "      <td>0</td>\n",
       "      <td>0</td>\n",
       "      <td>0</td>\n",
       "      <td>...</td>\n",
       "      <td>0</td>\n",
       "      <td>0</td>\n",
       "      <td>0</td>\n",
       "      <td>0</td>\n",
       "      <td>0</td>\n",
       "      <td>0</td>\n",
       "      <td>0</td>\n",
       "      <td>0</td>\n",
       "      <td>0</td>\n",
       "      <td>0</td>\n",
       "    </tr>\n",
       "    <tr>\n",
       "      <th>Pittige truffels</th>\n",
       "      <td>0</td>\n",
       "      <td>0</td>\n",
       "      <td>0</td>\n",
       "      <td>0</td>\n",
       "      <td>1</td>\n",
       "      <td>0</td>\n",
       "      <td>0</td>\n",
       "      <td>0</td>\n",
       "      <td>0</td>\n",
       "      <td>0</td>\n",
       "      <td>...</td>\n",
       "      <td>0</td>\n",
       "      <td>0</td>\n",
       "      <td>0</td>\n",
       "      <td>0</td>\n",
       "      <td>0</td>\n",
       "      <td>0</td>\n",
       "      <td>0</td>\n",
       "      <td>0</td>\n",
       "      <td>0</td>\n",
       "      <td>1</td>\n",
       "    </tr>\n",
       "    <tr>\n",
       "      <th>Biefstuk met rodewijnsaus en ham</th>\n",
       "      <td>0</td>\n",
       "      <td>0</td>\n",
       "      <td>0</td>\n",
       "      <td>0</td>\n",
       "      <td>0</td>\n",
       "      <td>0</td>\n",
       "      <td>0</td>\n",
       "      <td>0</td>\n",
       "      <td>0</td>\n",
       "      <td>0</td>\n",
       "      <td>...</td>\n",
       "      <td>0</td>\n",
       "      <td>0</td>\n",
       "      <td>0</td>\n",
       "      <td>0</td>\n",
       "      <td>0</td>\n",
       "      <td>0</td>\n",
       "      <td>0</td>\n",
       "      <td>0</td>\n",
       "      <td>0</td>\n",
       "      <td>0</td>\n",
       "    </tr>\n",
       "  </tbody>\n",
       "</table>\n",
       "<p>8706 rows × 7010 columns</p>\n",
       "</div>"
      ],
      "text/plain": [
       "                                    melkchocolade  kruidnoten  discodip  \\\n",
       "Kruidnoten met choco-discodip                   1           1         1   \n",
       "Kruidnoten in marsepein                         0           1         0   \n",
       "Kruidnoten met chocodips                        0           1         0   \n",
       "Pepernotentaart met marsepeinstrik              0           1         0   \n",
       "Perencake                                       0           0         0   \n",
       "...                                           ...         ...       ...   \n",
       "Paddenstoelen en courgettegratin                0           0         0   \n",
       "Peren-amandelcoupe                              0           0         0   \n",
       "Ceviche met sint-jakobsschelpen                 0           0         0   \n",
       "Pittige truffels                                0           0         0   \n",
       "Biefstuk met rodewijnsaus en ham                0           0         0   \n",
       "\n",
       "                                    blanke marsepein  ongezouten roomboter  \\\n",
       "Kruidnoten met choco-discodip                      0                     0   \n",
       "Kruidnoten in marsepein                            1                     1   \n",
       "Kruidnoten met chocodips                           0                     1   \n",
       "Pepernotentaart met marsepeinstrik                 0                     1   \n",
       "Perencake                                          0                     0   \n",
       "...                                              ...                   ...   \n",
       "Paddenstoelen en courgettegratin                   0                     0   \n",
       "Peren-amandelcoupe                                 0                     0   \n",
       "Ceviche met sint-jakobsschelpen                    0                     0   \n",
       "Pittige truffels                                   0                     1   \n",
       "Biefstuk met rodewijnsaus en ham                   0                     0   \n",
       "\n",
       "                                    nougatine in bakje  pure chocolade  \\\n",
       "Kruidnoten met choco-discodip                        0               0   \n",
       "Kruidnoten in marsepein                              1               0   \n",
       "Kruidnoten met chocodips                             0               1   \n",
       "Pepernotentaart met marsepeinstrik                   0               0   \n",
       "Perencake                                            0               0   \n",
       "...                                                ...             ...   \n",
       "Paddenstoelen en courgettegratin                     0               0   \n",
       "Peren-amandelcoupe                                   0               0   \n",
       "Ceviche met sint-jakobsschelpen                      0               0   \n",
       "Pittige truffels                                     0               0   \n",
       "Biefstuk met rodewijnsaus en ham                     0               0   \n",
       "\n",
       "                                    cacaopoeder  hagelslag puur  \\\n",
       "Kruidnoten met choco-discodip                 0               0   \n",
       "Kruidnoten in marsepein                       0               0   \n",
       "Kruidnoten met chocodips                      1               1   \n",
       "Pepernotentaart met marsepeinstrik            0               0   \n",
       "Perencake                                     0               0   \n",
       "...                                         ...             ...   \n",
       "Paddenstoelen en courgettegratin              0               0   \n",
       "Peren-amandelcoupe                            0               0   \n",
       "Ceviche met sint-jakobsschelpen               0               0   \n",
       "Pittige truffels                              0               0   \n",
       "Biefstuk met rodewijnsaus en ham              0               0   \n",
       "\n",
       "                                    witte basterdsuiker  ...  goudreinetten  \\\n",
       "Kruidnoten met choco-discodip                         0  ...              0   \n",
       "Kruidnoten in marsepein                               0  ...              0   \n",
       "Kruidnoten met chocodips                              0  ...              0   \n",
       "Pepernotentaart met marsepeinstrik                    1  ...              0   \n",
       "Perencake                                             0  ...              0   \n",
       "...                                                 ...  ...            ...   \n",
       "Paddenstoelen en courgettegratin                      0  ...              0   \n",
       "Peren-amandelcoupe                                    0  ...              0   \n",
       "Ceviche met sint-jakobsschelpen                       0  ...              0   \n",
       "Pittige truffels                                      0  ...              0   \n",
       "Biefstuk met rodewijnsaus en ham                      0  ...              0   \n",
       "\n",
       "                                    gemengde kruiden  \\\n",
       "Kruidnoten met choco-discodip                      0   \n",
       "Kruidnoten in marsepein                            0   \n",
       "Kruidnoten met chocodips                           0   \n",
       "Pepernotentaart met marsepeinstrik                 0   \n",
       "Perencake                                          0   \n",
       "...                                              ...   \n",
       "Paddenstoelen en courgettegratin                   0   \n",
       "Peren-amandelcoupe                                 0   \n",
       "Ceviche met sint-jakobsschelpen                    0   \n",
       "Pittige truffels                                   0   \n",
       "Biefstuk met rodewijnsaus en ham                   0   \n",
       "\n",
       "                                    Garden Gourmet falafelburger  \\\n",
       "Kruidnoten met choco-discodip                                  0   \n",
       "Kruidnoten in marsepein                                        0   \n",
       "Kruidnoten met chocodips                                       0   \n",
       "Pepernotentaart met marsepeinstrik                             0   \n",
       "Perencake                                                      0   \n",
       "...                                                          ...   \n",
       "Paddenstoelen en courgettegratin                               0   \n",
       "Peren-amandelcoupe                                             0   \n",
       "Ceviche met sint-jakobsschelpen                                0   \n",
       "Pittige truffels                                               0   \n",
       "Biefstuk met rodewijnsaus en ham                               0   \n",
       "\n",
       "                                    prei a la creme deelblokjes  \\\n",
       "Kruidnoten met choco-discodip                                 0   \n",
       "Kruidnoten in marsepein                                       0   \n",
       "Kruidnoten met chocodips                                      0   \n",
       "Pepernotentaart met marsepeinstrik                            0   \n",
       "Perencake                                                     0   \n",
       "...                                                         ...   \n",
       "Paddenstoelen en courgettegratin                              0   \n",
       "Peren-amandelcoupe                                            0   \n",
       "Ceviche met sint-jakobsschelpen                               0   \n",
       "Pittige truffels                                              0   \n",
       "Biefstuk met rodewijnsaus en ham                              0   \n",
       "\n",
       "                                    boomgaardsap peer  zalmreepjes  \\\n",
       "Kruidnoten met choco-discodip                       0            0   \n",
       "Kruidnoten in marsepein                             0            0   \n",
       "Kruidnoten met chocodips                            0            0   \n",
       "Pepernotentaart met marsepeinstrik                  0            0   \n",
       "Perencake                                           0            0   \n",
       "...                                               ...          ...   \n",
       "Paddenstoelen en courgettegratin                    0            0   \n",
       "Peren-amandelcoupe                                  0            0   \n",
       "Ceviche met sint-jakobsschelpen                     0            0   \n",
       "Pittige truffels                                    0            0   \n",
       "Biefstuk met rodewijnsaus en ham                    0            0   \n",
       "\n",
       "                                    rodekool met appel  friszoete appels  \\\n",
       "Kruidnoten met choco-discodip                        0                 0   \n",
       "Kruidnoten in marsepein                              0                 0   \n",
       "Kruidnoten met chocodips                             0                 0   \n",
       "Pepernotentaart met marsepeinstrik                   0                 0   \n",
       "Perencake                                            0                 0   \n",
       "...                                                ...               ...   \n",
       "Paddenstoelen en courgettegratin                     0                 0   \n",
       "Peren-amandelcoupe                                   0                 0   \n",
       "Ceviche met sint-jakobsschelpen                      0                 0   \n",
       "Pittige truffels                                     0                 0   \n",
       "Biefstuk met rodewijnsaus en ham                     0                 0   \n",
       "\n",
       "                                    winterpenen  Blooker cacaopoeder  \n",
       "Kruidnoten met choco-discodip                 0                    0  \n",
       "Kruidnoten in marsepein                       0                    0  \n",
       "Kruidnoten met chocodips                      0                    0  \n",
       "Pepernotentaart met marsepeinstrik            0                    0  \n",
       "Perencake                                     0                    0  \n",
       "...                                         ...                  ...  \n",
       "Paddenstoelen en courgettegratin              0                    0  \n",
       "Peren-amandelcoupe                            0                    0  \n",
       "Ceviche met sint-jakobsschelpen               0                    0  \n",
       "Pittige truffels                              0                    1  \n",
       "Biefstuk met rodewijnsaus en ham              0                    0  \n",
       "\n",
       "[8706 rows x 7010 columns]"
      ]
     },
     "execution_count": 12,
     "metadata": {},
     "output_type": "execute_result"
    }
   ],
   "source": [
    "# dataframe met 1en en 0en\n",
    "X = ingr_matrix.drop('variant tomaat', axis = 1)\n",
    "X"
   ]
  },
  {
   "cell_type": "markdown",
   "id": "9992de8a",
   "metadata": {},
   "source": [
    "We creëeren een train (hier 70% van de data) en test (30%) set van X en y. "
   ]
  },
  {
   "cell_type": "code",
   "execution_count": 13,
   "id": "efe279b4",
   "metadata": {},
   "outputs": [],
   "source": [
    "# random splitten in train en test\n",
    "X_train, X_test, y_train, y_test = train_test_split(X, y, test_size = 0.3, random_state = 42)"
   ]
  },
  {
   "cell_type": "markdown",
   "id": "db81645b",
   "metadata": {},
   "source": [
    "1. Logistic Regression model"
   ]
  },
  {
   "cell_type": "code",
   "execution_count": 14,
   "id": "0cf4b9b1",
   "metadata": {},
   "outputs": [],
   "source": [
    "log_reg = LogisticRegression()"
   ]
  },
  {
   "cell_type": "code",
   "execution_count": 15,
   "id": "973784b5",
   "metadata": {},
   "outputs": [
    {
     "name": "stderr",
     "output_type": "stream",
     "text": [
      "/opt/jupyterhub/anaconda/lib/python3.9/site-packages/sklearn/utils/validation.py:1111: DataConversionWarning: A column-vector y was passed when a 1d array was expected. Please change the shape of y to (n_samples, ), for example using ravel().\n",
      "  y = column_or_1d(y, warn=True)\n"
     ]
    },
    {
     "data": {
      "text/html": [
       "<style>#sk-container-id-1 {color: black;background-color: white;}#sk-container-id-1 pre{padding: 0;}#sk-container-id-1 div.sk-toggleable {background-color: white;}#sk-container-id-1 label.sk-toggleable__label {cursor: pointer;display: block;width: 100%;margin-bottom: 0;padding: 0.3em;box-sizing: border-box;text-align: center;}#sk-container-id-1 label.sk-toggleable__label-arrow:before {content: \"▸\";float: left;margin-right: 0.25em;color: #696969;}#sk-container-id-1 label.sk-toggleable__label-arrow:hover:before {color: black;}#sk-container-id-1 div.sk-estimator:hover label.sk-toggleable__label-arrow:before {color: black;}#sk-container-id-1 div.sk-toggleable__content {max-height: 0;max-width: 0;overflow: hidden;text-align: left;background-color: #f0f8ff;}#sk-container-id-1 div.sk-toggleable__content pre {margin: 0.2em;color: black;border-radius: 0.25em;background-color: #f0f8ff;}#sk-container-id-1 input.sk-toggleable__control:checked~div.sk-toggleable__content {max-height: 200px;max-width: 100%;overflow: auto;}#sk-container-id-1 input.sk-toggleable__control:checked~label.sk-toggleable__label-arrow:before {content: \"▾\";}#sk-container-id-1 div.sk-estimator input.sk-toggleable__control:checked~label.sk-toggleable__label {background-color: #d4ebff;}#sk-container-id-1 div.sk-label input.sk-toggleable__control:checked~label.sk-toggleable__label {background-color: #d4ebff;}#sk-container-id-1 input.sk-hidden--visually {border: 0;clip: rect(1px 1px 1px 1px);clip: rect(1px, 1px, 1px, 1px);height: 1px;margin: -1px;overflow: hidden;padding: 0;position: absolute;width: 1px;}#sk-container-id-1 div.sk-estimator {font-family: monospace;background-color: #f0f8ff;border: 1px dotted black;border-radius: 0.25em;box-sizing: border-box;margin-bottom: 0.5em;}#sk-container-id-1 div.sk-estimator:hover {background-color: #d4ebff;}#sk-container-id-1 div.sk-parallel-item::after {content: \"\";width: 100%;border-bottom: 1px solid gray;flex-grow: 1;}#sk-container-id-1 div.sk-label:hover label.sk-toggleable__label {background-color: #d4ebff;}#sk-container-id-1 div.sk-serial::before {content: \"\";position: absolute;border-left: 1px solid gray;box-sizing: border-box;top: 0;bottom: 0;left: 50%;z-index: 0;}#sk-container-id-1 div.sk-serial {display: flex;flex-direction: column;align-items: center;background-color: white;padding-right: 0.2em;padding-left: 0.2em;position: relative;}#sk-container-id-1 div.sk-item {position: relative;z-index: 1;}#sk-container-id-1 div.sk-parallel {display: flex;align-items: stretch;justify-content: center;background-color: white;position: relative;}#sk-container-id-1 div.sk-item::before, #sk-container-id-1 div.sk-parallel-item::before {content: \"\";position: absolute;border-left: 1px solid gray;box-sizing: border-box;top: 0;bottom: 0;left: 50%;z-index: -1;}#sk-container-id-1 div.sk-parallel-item {display: flex;flex-direction: column;z-index: 1;position: relative;background-color: white;}#sk-container-id-1 div.sk-parallel-item:first-child::after {align-self: flex-end;width: 50%;}#sk-container-id-1 div.sk-parallel-item:last-child::after {align-self: flex-start;width: 50%;}#sk-container-id-1 div.sk-parallel-item:only-child::after {width: 0;}#sk-container-id-1 div.sk-dashed-wrapped {border: 1px dashed gray;margin: 0 0.4em 0.5em 0.4em;box-sizing: border-box;padding-bottom: 0.4em;background-color: white;}#sk-container-id-1 div.sk-label label {font-family: monospace;font-weight: bold;display: inline-block;line-height: 1.2em;}#sk-container-id-1 div.sk-label-container {text-align: center;}#sk-container-id-1 div.sk-container {/* jupyter's `normalize.less` sets `[hidden] { display: none; }` but bootstrap.min.css set `[hidden] { display: none !important; }` so we also need the `!important` here to be able to override the default hidden behavior on the sphinx rendered scikit-learn.org. See: https://github.com/scikit-learn/scikit-learn/issues/21755 */display: inline-block !important;position: relative;}#sk-container-id-1 div.sk-text-repr-fallback {display: none;}</style><div id=\"sk-container-id-1\" class=\"sk-top-container\"><div class=\"sk-text-repr-fallback\"><pre>LogisticRegression()</pre><b>In a Jupyter environment, please rerun this cell to show the HTML representation or trust the notebook. <br />On GitHub, the HTML representation is unable to render, please try loading this page with nbviewer.org.</b></div><div class=\"sk-container\" hidden><div class=\"sk-item\"><div class=\"sk-estimator sk-toggleable\"><input class=\"sk-toggleable__control sk-hidden--visually\" id=\"sk-estimator-id-1\" type=\"checkbox\" checked><label for=\"sk-estimator-id-1\" class=\"sk-toggleable__label sk-toggleable__label-arrow\">LogisticRegression</label><div class=\"sk-toggleable__content\"><pre>LogisticRegression()</pre></div></div></div></div></div>"
      ],
      "text/plain": [
       "LogisticRegression()"
      ]
     },
     "execution_count": 15,
     "metadata": {},
     "output_type": "execute_result"
    }
   ],
   "source": [
    "log_reg.fit(X_train, y_train)"
   ]
  },
  {
   "cell_type": "code",
   "execution_count": 16,
   "id": "68796f28",
   "metadata": {},
   "outputs": [
    {
     "data": {
      "text/plain": [
       "array([0, 0, 0, ..., 0, 0, 1])"
      ]
     },
     "execution_count": 16,
     "metadata": {},
     "output_type": "execute_result"
    }
   ],
   "source": [
    "# hieronder laten we het model voorspellingen voor y doen op de testset. y_pred is dus een lijst met 0en en 1en\n",
    "y_pred_lg = log_reg.predict(X_test)\n",
    "y_pred_lg"
   ]
  },
  {
   "cell_type": "markdown",
   "id": "76fafe3b",
   "metadata": {},
   "source": [
    "2. K-Nearest Neighbors"
   ]
  },
  {
   "cell_type": "code",
   "execution_count": 17,
   "id": "8a7df0e2",
   "metadata": {},
   "outputs": [],
   "source": [
    "KNN = KNeighborsClassifier()"
   ]
  },
  {
   "cell_type": "code",
   "execution_count": 18,
   "id": "0565d5e6",
   "metadata": {},
   "outputs": [
    {
     "name": "stderr",
     "output_type": "stream",
     "text": [
      "/opt/jupyterhub/anaconda/lib/python3.9/site-packages/sklearn/neighbors/_classification.py:207: DataConversionWarning: A column-vector y was passed when a 1d array was expected. Please change the shape of y to (n_samples,), for example using ravel().\n",
      "  return self._fit(X, y)\n"
     ]
    },
    {
     "data": {
      "text/html": [
       "<style>#sk-container-id-2 {color: black;background-color: white;}#sk-container-id-2 pre{padding: 0;}#sk-container-id-2 div.sk-toggleable {background-color: white;}#sk-container-id-2 label.sk-toggleable__label {cursor: pointer;display: block;width: 100%;margin-bottom: 0;padding: 0.3em;box-sizing: border-box;text-align: center;}#sk-container-id-2 label.sk-toggleable__label-arrow:before {content: \"▸\";float: left;margin-right: 0.25em;color: #696969;}#sk-container-id-2 label.sk-toggleable__label-arrow:hover:before {color: black;}#sk-container-id-2 div.sk-estimator:hover label.sk-toggleable__label-arrow:before {color: black;}#sk-container-id-2 div.sk-toggleable__content {max-height: 0;max-width: 0;overflow: hidden;text-align: left;background-color: #f0f8ff;}#sk-container-id-2 div.sk-toggleable__content pre {margin: 0.2em;color: black;border-radius: 0.25em;background-color: #f0f8ff;}#sk-container-id-2 input.sk-toggleable__control:checked~div.sk-toggleable__content {max-height: 200px;max-width: 100%;overflow: auto;}#sk-container-id-2 input.sk-toggleable__control:checked~label.sk-toggleable__label-arrow:before {content: \"▾\";}#sk-container-id-2 div.sk-estimator input.sk-toggleable__control:checked~label.sk-toggleable__label {background-color: #d4ebff;}#sk-container-id-2 div.sk-label input.sk-toggleable__control:checked~label.sk-toggleable__label {background-color: #d4ebff;}#sk-container-id-2 input.sk-hidden--visually {border: 0;clip: rect(1px 1px 1px 1px);clip: rect(1px, 1px, 1px, 1px);height: 1px;margin: -1px;overflow: hidden;padding: 0;position: absolute;width: 1px;}#sk-container-id-2 div.sk-estimator {font-family: monospace;background-color: #f0f8ff;border: 1px dotted black;border-radius: 0.25em;box-sizing: border-box;margin-bottom: 0.5em;}#sk-container-id-2 div.sk-estimator:hover {background-color: #d4ebff;}#sk-container-id-2 div.sk-parallel-item::after {content: \"\";width: 100%;border-bottom: 1px solid gray;flex-grow: 1;}#sk-container-id-2 div.sk-label:hover label.sk-toggleable__label {background-color: #d4ebff;}#sk-container-id-2 div.sk-serial::before {content: \"\";position: absolute;border-left: 1px solid gray;box-sizing: border-box;top: 0;bottom: 0;left: 50%;z-index: 0;}#sk-container-id-2 div.sk-serial {display: flex;flex-direction: column;align-items: center;background-color: white;padding-right: 0.2em;padding-left: 0.2em;position: relative;}#sk-container-id-2 div.sk-item {position: relative;z-index: 1;}#sk-container-id-2 div.sk-parallel {display: flex;align-items: stretch;justify-content: center;background-color: white;position: relative;}#sk-container-id-2 div.sk-item::before, #sk-container-id-2 div.sk-parallel-item::before {content: \"\";position: absolute;border-left: 1px solid gray;box-sizing: border-box;top: 0;bottom: 0;left: 50%;z-index: -1;}#sk-container-id-2 div.sk-parallel-item {display: flex;flex-direction: column;z-index: 1;position: relative;background-color: white;}#sk-container-id-2 div.sk-parallel-item:first-child::after {align-self: flex-end;width: 50%;}#sk-container-id-2 div.sk-parallel-item:last-child::after {align-self: flex-start;width: 50%;}#sk-container-id-2 div.sk-parallel-item:only-child::after {width: 0;}#sk-container-id-2 div.sk-dashed-wrapped {border: 1px dashed gray;margin: 0 0.4em 0.5em 0.4em;box-sizing: border-box;padding-bottom: 0.4em;background-color: white;}#sk-container-id-2 div.sk-label label {font-family: monospace;font-weight: bold;display: inline-block;line-height: 1.2em;}#sk-container-id-2 div.sk-label-container {text-align: center;}#sk-container-id-2 div.sk-container {/* jupyter's `normalize.less` sets `[hidden] { display: none; }` but bootstrap.min.css set `[hidden] { display: none !important; }` so we also need the `!important` here to be able to override the default hidden behavior on the sphinx rendered scikit-learn.org. See: https://github.com/scikit-learn/scikit-learn/issues/21755 */display: inline-block !important;position: relative;}#sk-container-id-2 div.sk-text-repr-fallback {display: none;}</style><div id=\"sk-container-id-2\" class=\"sk-top-container\"><div class=\"sk-text-repr-fallback\"><pre>KNeighborsClassifier()</pre><b>In a Jupyter environment, please rerun this cell to show the HTML representation or trust the notebook. <br />On GitHub, the HTML representation is unable to render, please try loading this page with nbviewer.org.</b></div><div class=\"sk-container\" hidden><div class=\"sk-item\"><div class=\"sk-estimator sk-toggleable\"><input class=\"sk-toggleable__control sk-hidden--visually\" id=\"sk-estimator-id-2\" type=\"checkbox\" checked><label for=\"sk-estimator-id-2\" class=\"sk-toggleable__label sk-toggleable__label-arrow\">KNeighborsClassifier</label><div class=\"sk-toggleable__content\"><pre>KNeighborsClassifier()</pre></div></div></div></div></div>"
      ],
      "text/plain": [
       "KNeighborsClassifier()"
      ]
     },
     "execution_count": 18,
     "metadata": {},
     "output_type": "execute_result"
    }
   ],
   "source": [
    "KNN.fit(X_train, y_train)"
   ]
  },
  {
   "cell_type": "code",
   "execution_count": 19,
   "id": "e3b8a302",
   "metadata": {},
   "outputs": [
    {
     "data": {
      "text/plain": [
       "array([0, 0, 0, ..., 0, 0, 0])"
      ]
     },
     "execution_count": 19,
     "metadata": {},
     "output_type": "execute_result"
    }
   ],
   "source": [
    "# hieronder laten we het model voorspellingen voor y doen op de testset. y_pred is dus een lijst met 0en en 1en\n",
    "y_pred_KNN = KNN.predict(X_test)\n",
    "y_pred_KNN"
   ]
  },
  {
   "cell_type": "markdown",
   "id": "79b9457f",
   "metadata": {},
   "source": [
    "3. Desicion Tree"
   ]
  },
  {
   "cell_type": "code",
   "execution_count": 20,
   "id": "30d96403",
   "metadata": {},
   "outputs": [],
   "source": [
    "D_Tree = DecisionTreeClassifier()"
   ]
  },
  {
   "cell_type": "code",
   "execution_count": 21,
   "id": "36af1b9f",
   "metadata": {},
   "outputs": [
    {
     "data": {
      "text/html": [
       "<style>#sk-container-id-3 {color: black;background-color: white;}#sk-container-id-3 pre{padding: 0;}#sk-container-id-3 div.sk-toggleable {background-color: white;}#sk-container-id-3 label.sk-toggleable__label {cursor: pointer;display: block;width: 100%;margin-bottom: 0;padding: 0.3em;box-sizing: border-box;text-align: center;}#sk-container-id-3 label.sk-toggleable__label-arrow:before {content: \"▸\";float: left;margin-right: 0.25em;color: #696969;}#sk-container-id-3 label.sk-toggleable__label-arrow:hover:before {color: black;}#sk-container-id-3 div.sk-estimator:hover label.sk-toggleable__label-arrow:before {color: black;}#sk-container-id-3 div.sk-toggleable__content {max-height: 0;max-width: 0;overflow: hidden;text-align: left;background-color: #f0f8ff;}#sk-container-id-3 div.sk-toggleable__content pre {margin: 0.2em;color: black;border-radius: 0.25em;background-color: #f0f8ff;}#sk-container-id-3 input.sk-toggleable__control:checked~div.sk-toggleable__content {max-height: 200px;max-width: 100%;overflow: auto;}#sk-container-id-3 input.sk-toggleable__control:checked~label.sk-toggleable__label-arrow:before {content: \"▾\";}#sk-container-id-3 div.sk-estimator input.sk-toggleable__control:checked~label.sk-toggleable__label {background-color: #d4ebff;}#sk-container-id-3 div.sk-label input.sk-toggleable__control:checked~label.sk-toggleable__label {background-color: #d4ebff;}#sk-container-id-3 input.sk-hidden--visually {border: 0;clip: rect(1px 1px 1px 1px);clip: rect(1px, 1px, 1px, 1px);height: 1px;margin: -1px;overflow: hidden;padding: 0;position: absolute;width: 1px;}#sk-container-id-3 div.sk-estimator {font-family: monospace;background-color: #f0f8ff;border: 1px dotted black;border-radius: 0.25em;box-sizing: border-box;margin-bottom: 0.5em;}#sk-container-id-3 div.sk-estimator:hover {background-color: #d4ebff;}#sk-container-id-3 div.sk-parallel-item::after {content: \"\";width: 100%;border-bottom: 1px solid gray;flex-grow: 1;}#sk-container-id-3 div.sk-label:hover label.sk-toggleable__label {background-color: #d4ebff;}#sk-container-id-3 div.sk-serial::before {content: \"\";position: absolute;border-left: 1px solid gray;box-sizing: border-box;top: 0;bottom: 0;left: 50%;z-index: 0;}#sk-container-id-3 div.sk-serial {display: flex;flex-direction: column;align-items: center;background-color: white;padding-right: 0.2em;padding-left: 0.2em;position: relative;}#sk-container-id-3 div.sk-item {position: relative;z-index: 1;}#sk-container-id-3 div.sk-parallel {display: flex;align-items: stretch;justify-content: center;background-color: white;position: relative;}#sk-container-id-3 div.sk-item::before, #sk-container-id-3 div.sk-parallel-item::before {content: \"\";position: absolute;border-left: 1px solid gray;box-sizing: border-box;top: 0;bottom: 0;left: 50%;z-index: -1;}#sk-container-id-3 div.sk-parallel-item {display: flex;flex-direction: column;z-index: 1;position: relative;background-color: white;}#sk-container-id-3 div.sk-parallel-item:first-child::after {align-self: flex-end;width: 50%;}#sk-container-id-3 div.sk-parallel-item:last-child::after {align-self: flex-start;width: 50%;}#sk-container-id-3 div.sk-parallel-item:only-child::after {width: 0;}#sk-container-id-3 div.sk-dashed-wrapped {border: 1px dashed gray;margin: 0 0.4em 0.5em 0.4em;box-sizing: border-box;padding-bottom: 0.4em;background-color: white;}#sk-container-id-3 div.sk-label label {font-family: monospace;font-weight: bold;display: inline-block;line-height: 1.2em;}#sk-container-id-3 div.sk-label-container {text-align: center;}#sk-container-id-3 div.sk-container {/* jupyter's `normalize.less` sets `[hidden] { display: none; }` but bootstrap.min.css set `[hidden] { display: none !important; }` so we also need the `!important` here to be able to override the default hidden behavior on the sphinx rendered scikit-learn.org. See: https://github.com/scikit-learn/scikit-learn/issues/21755 */display: inline-block !important;position: relative;}#sk-container-id-3 div.sk-text-repr-fallback {display: none;}</style><div id=\"sk-container-id-3\" class=\"sk-top-container\"><div class=\"sk-text-repr-fallback\"><pre>DecisionTreeClassifier()</pre><b>In a Jupyter environment, please rerun this cell to show the HTML representation or trust the notebook. <br />On GitHub, the HTML representation is unable to render, please try loading this page with nbviewer.org.</b></div><div class=\"sk-container\" hidden><div class=\"sk-item\"><div class=\"sk-estimator sk-toggleable\"><input class=\"sk-toggleable__control sk-hidden--visually\" id=\"sk-estimator-id-3\" type=\"checkbox\" checked><label for=\"sk-estimator-id-3\" class=\"sk-toggleable__label sk-toggleable__label-arrow\">DecisionTreeClassifier</label><div class=\"sk-toggleable__content\"><pre>DecisionTreeClassifier()</pre></div></div></div></div></div>"
      ],
      "text/plain": [
       "DecisionTreeClassifier()"
      ]
     },
     "execution_count": 21,
     "metadata": {},
     "output_type": "execute_result"
    }
   ],
   "source": [
    "D_Tree.fit(X_train, y_train)"
   ]
  },
  {
   "cell_type": "code",
   "execution_count": 22,
   "id": "10a056cc",
   "metadata": {},
   "outputs": [
    {
     "data": {
      "text/plain": [
       "array([0, 0, 0, ..., 0, 0, 1])"
      ]
     },
     "execution_count": 22,
     "metadata": {},
     "output_type": "execute_result"
    }
   ],
   "source": [
    "# hieronder laten we het model voorspellingen voor y doen op de testset. y_pred is dus een lijst met 0en en 1en\n",
    "y_pred_tree = D_Tree.predict(X_test)\n",
    "y_pred_tree"
   ]
  },
  {
   "cell_type": "markdown",
   "id": "77630bf2",
   "metadata": {},
   "source": [
    "## Testen\n",
    "Deze modellen gaan we testen op de testdata, door te kijken naar accuracy (percentage goed verspelde waardes) en recall score (deel goed voorspelde 1en/positives van alle 1en/postives)."
   ]
  },
  {
   "cell_type": "markdown",
   "id": "143dcf51",
   "metadata": {},
   "source": [
    "1. Logistic Regression: \"y_pred_lg\""
   ]
  },
  {
   "cell_type": "code",
   "execution_count": 23,
   "id": "67b39ab9",
   "metadata": {},
   "outputs": [
    {
     "data": {
      "text/plain": [
       "0.8085758039816233"
      ]
     },
     "execution_count": 23,
     "metadata": {},
     "output_type": "execute_result"
    }
   ],
   "source": [
    "# accuracy\n",
    "accuracy_score(y_test, y_pred_lg)"
   ]
  },
  {
   "cell_type": "code",
   "execution_count": 24,
   "id": "0640980e",
   "metadata": {},
   "outputs": [
    {
     "data": {
      "text/plain": [
       "array([[1955,  124],\n",
       "       [ 376,  157]])"
      ]
     },
     "execution_count": 24,
     "metadata": {},
     "output_type": "execute_result"
    }
   ],
   "source": [
    "# conf matrix: TN, FP\n",
    "#              FN, TP\n",
    "confusion_matrix(y_test, y_pred_lg)"
   ]
  },
  {
   "cell_type": "code",
   "execution_count": 25,
   "id": "e0037a7d",
   "metadata": {},
   "outputs": [
    {
     "data": {
      "text/plain": [
       "0.2945590994371482"
      ]
     },
     "execution_count": 25,
     "metadata": {},
     "output_type": "execute_result"
    }
   ],
   "source": [
    "# recall = TP/(TP + FN)\n",
    "recall_score(y_test, y_pred_lg)\n",
    "# Na te rekenen uit confusion matrix: 157/(376+157)"
   ]
  },
  {
   "cell_type": "markdown",
   "id": "8dc926ae",
   "metadata": {},
   "source": [
    "2. K-Nearest Neighbour: \"y_pred_KNN\""
   ]
  },
  {
   "cell_type": "code",
   "execution_count": 26,
   "id": "f7faf8fb",
   "metadata": {},
   "outputs": [
    {
     "data": {
      "text/plain": [
       "0.7947932618683001"
      ]
     },
     "execution_count": 26,
     "metadata": {},
     "output_type": "execute_result"
    }
   ],
   "source": [
    "# accuracy\n",
    "accuracy_score(y_test, y_pred_KNN)"
   ]
  },
  {
   "cell_type": "code",
   "execution_count": 27,
   "id": "7f14b4ae",
   "metadata": {},
   "outputs": [
    {
     "data": {
      "text/plain": [
       "array([[1995,   84],\n",
       "       [ 452,   81]])"
      ]
     },
     "execution_count": 27,
     "metadata": {},
     "output_type": "execute_result"
    }
   ],
   "source": [
    "# conf matrix:\n",
    "confusion_matrix(y_test, y_pred_KNN)"
   ]
  },
  {
   "cell_type": "code",
   "execution_count": 28,
   "id": "13974142",
   "metadata": {},
   "outputs": [
    {
     "data": {
      "text/plain": [
       "0.15196998123827393"
      ]
     },
     "execution_count": 28,
     "metadata": {},
     "output_type": "execute_result"
    }
   ],
   "source": [
    "# recall = TP/(TP + FN)\n",
    "recall_score(y_test, y_pred_KNN)"
   ]
  },
  {
   "cell_type": "markdown",
   "id": "70bfc702",
   "metadata": {},
   "source": [
    "3. Desicion Tree: \"y_pred_tree\""
   ]
  },
  {
   "cell_type": "code",
   "execution_count": 29,
   "id": "663753a5",
   "metadata": {},
   "outputs": [
    {
     "data": {
      "text/plain": [
       "0.774885145482389"
      ]
     },
     "execution_count": 29,
     "metadata": {},
     "output_type": "execute_result"
    }
   ],
   "source": [
    "# accuracy\n",
    "accuracy_score(y_test, y_pred_tree)"
   ]
  },
  {
   "cell_type": "code",
   "execution_count": 30,
   "id": "2ef31cf1",
   "metadata": {},
   "outputs": [
    {
     "data": {
      "text/plain": [
       "array([[1886,  193],\n",
       "       [ 395,  138]])"
      ]
     },
     "execution_count": 30,
     "metadata": {},
     "output_type": "execute_result"
    }
   ],
   "source": [
    "# conf matrix:\n",
    "confusion_matrix(y_test, y_pred_tree)"
   ]
  },
  {
   "cell_type": "code",
   "execution_count": 31,
   "id": "375b750e",
   "metadata": {},
   "outputs": [
    {
     "data": {
      "text/plain": [
       "0.2589118198874296"
      ]
     },
     "execution_count": 31,
     "metadata": {},
     "output_type": "execute_result"
    }
   ],
   "source": [
    "# recall = TP/(TP + FN)\n",
    "recall_score(y_test, y_pred_tree)"
   ]
  },
  {
   "cell_type": "markdown",
   "id": "1d92371b",
   "metadata": {},
   "source": [
    "# Conclusie\n",
    "Logistic Regression lijkt van deze 3 modellen het beste resultaat te geven. De accuracy is daar 0.81, dat betekent dat het model 81% van de tijd het goede voorspelt voor een recept. De recall score is echter maar 0.29. Dit betekent dat het model vaak voorspeld dat er geen tomaat o.i.d. in zit, terwijl dit wel het geval is. In maar 1880 van de 8706 recepten komt iets met tomaat voor, daarom is de accuracy nog redelijk hoog: Het model heeft het vaak wel goed als die 0 voorspeld. Dit model is dus niet heel goed.\n",
    "\n",
    "(Het samenvoegen van de ingrediënten met tomaat heeft niet veel toegevoegd en was niet nodig geweest)"
   ]
  }
 ],
 "metadata": {
  "kernelspec": {
   "display_name": "Python 3 (ipykernel)",
   "language": "python",
   "name": "python3"
  },
  "language_info": {
   "codemirror_mode": {
    "name": "ipython",
    "version": 3
   },
   "file_extension": ".py",
   "mimetype": "text/x-python",
   "name": "python",
   "nbconvert_exporter": "python",
   "pygments_lexer": "ipython3",
   "version": "3.9.15"
  }
 },
 "nbformat": 4,
 "nbformat_minor": 5
}
