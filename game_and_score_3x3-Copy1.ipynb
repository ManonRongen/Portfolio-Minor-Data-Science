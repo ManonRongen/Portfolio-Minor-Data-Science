{
 "cells": [
  {
   "cell_type": "markdown",
   "id": "e49ebbb9",
   "metadata": {},
   "source": [
    "# Reward functie schrijven voor random game\n",
    "In dit notebook is gewerkt aan een reward functie, zonder dat er al RL wordt gebruikt. Er is 1 game gespeeld, bestaande uit 9 zetten: 9 containers plaatsen in een yard van 3 bij 3. \n",
    "\n",
    "In eerste instantie begonnen we met het berekenen van de reward score van 1 game nadat de 9 container geplaatst waren, dit is hier eerst gedaan. Toen kwamen we erachter dat het voor het RL model handig was per zet rewards en penalty's kon geven, zodat het model per zet kon leren wat wel en niet handig was. Dat is in het tweede deel van dit notebook gedaan."
   ]
  },
  {
   "cell_type": "markdown",
   "id": "aaef1c55",
   "metadata": {},
   "source": [
    "### Imports"
   ]
  },
  {
   "cell_type": "code",
   "execution_count": 1,
   "id": "7b69bf5e",
   "metadata": {},
   "outputs": [],
   "source": [
    "import pandas as pd\n",
    "import numpy as np\n",
    "import random"
   ]
  },
  {
   "cell_type": "markdown",
   "id": "b60cc6cd",
   "metadata": {},
   "source": [
    "### een 3x3 yard maken"
   ]
  },
  {
   "cell_type": "code",
   "execution_count": 2,
   "id": "719aec06",
   "metadata": {},
   "outputs": [],
   "source": [
    "list_containers = [1,1,1,2,2,2,3,3,3]"
   ]
  },
  {
   "cell_type": "code",
   "execution_count": 3,
   "id": "125f805e",
   "metadata": {},
   "outputs": [],
   "source": [
    "data = {'left':[0,0,0], 'middle':[0,0,0], 'right':[0,0,0]}\n",
    "df_env = pd.DataFrame(data)"
   ]
  },
  {
   "cell_type": "markdown",
   "id": "d11f7ec3",
   "metadata": {},
   "source": [
    "###  Random invullen van environment"
   ]
  },
  {
   "cell_type": "code",
   "execution_count": 4,
   "id": "35f2c6c4",
   "metadata": {},
   "outputs": [],
   "source": [
    "def fill_environment(width, length, lijst_containers, d_env):\n",
    "    env = d_env.copy()\n",
    "    for j in range(0,length):\n",
    "        for i in range(0,width):\n",
    "            if len(lijst_containers) != 0:\n",
    "                a = random.choice(lijst_containers)\n",
    "                env.iloc[j,i] = a\n",
    "                lijst_containers.remove(a)\n",
    "    return env"
   ]
  },
  {
   "cell_type": "code",
   "execution_count": 5,
   "id": "8d361876",
   "metadata": {},
   "outputs": [
    {
     "data": {
      "text/html": [
       "<div>\n",
       "<style scoped>\n",
       "    .dataframe tbody tr th:only-of-type {\n",
       "        vertical-align: middle;\n",
       "    }\n",
       "\n",
       "    .dataframe tbody tr th {\n",
       "        vertical-align: top;\n",
       "    }\n",
       "\n",
       "    .dataframe thead th {\n",
       "        text-align: right;\n",
       "    }\n",
       "</style>\n",
       "<table border=\"1\" class=\"dataframe\">\n",
       "  <thead>\n",
       "    <tr style=\"text-align: right;\">\n",
       "      <th></th>\n",
       "      <th>left</th>\n",
       "      <th>middle</th>\n",
       "      <th>right</th>\n",
       "    </tr>\n",
       "  </thead>\n",
       "  <tbody>\n",
       "    <tr>\n",
       "      <th>0</th>\n",
       "      <td>2</td>\n",
       "      <td>3</td>\n",
       "      <td>1</td>\n",
       "    </tr>\n",
       "    <tr>\n",
       "      <th>1</th>\n",
       "      <td>3</td>\n",
       "      <td>3</td>\n",
       "      <td>1</td>\n",
       "    </tr>\n",
       "    <tr>\n",
       "      <th>2</th>\n",
       "      <td>1</td>\n",
       "      <td>2</td>\n",
       "      <td>2</td>\n",
       "    </tr>\n",
       "  </tbody>\n",
       "</table>\n",
       "</div>"
      ],
      "text/plain": [
       "   left  middle  right\n",
       "0     2       3      1\n",
       "1     3       3      1\n",
       "2     1       2      2"
      ]
     },
     "execution_count": 5,
     "metadata": {},
     "output_type": "execute_result"
    }
   ],
   "source": [
    "lijst = list_containers.copy()\n",
    "df_env1 = fill_environment(3,3,lijst, df_env)\n",
    "df_env1"
   ]
  },
  {
   "cell_type": "markdown",
   "id": "c3b15dfb",
   "metadata": {},
   "source": [
    "## Score aan einde game berekenen"
   ]
  },
  {
   "cell_type": "markdown",
   "id": "13264d05",
   "metadata": {},
   "source": [
    "### Score berekenen functie"
   ]
  },
  {
   "cell_type": "code",
   "execution_count": 6,
   "id": "212b6e96",
   "metadata": {},
   "outputs": [],
   "source": [
    "def score_env(width,length,filled_env):\n",
    "    score = 0\n",
    "    for j in range(0,length):\n",
    "        for i in range(0,(width-1)):\n",
    "            if filled_env.iloc[j,i] != filled_env.iloc[j,i+1]:\n",
    "                score += 1\n",
    "    return score"
   ]
  },
  {
   "cell_type": "code",
   "execution_count": 7,
   "id": "673c9a5f",
   "metadata": {},
   "outputs": [
    {
     "data": {
      "text/plain": [
       "4"
      ]
     },
     "execution_count": 7,
     "metadata": {},
     "output_type": "execute_result"
    }
   ],
   "source": [
    "score = score_env(3,3,df_env1)\n",
    "score"
   ]
  },
  {
   "cell_type": "markdown",
   "id": "8c1672ca",
   "metadata": {},
   "source": [
    "### game spelen en score krijgen"
   ]
  },
  {
   "cell_type": "code",
   "execution_count": 8,
   "id": "64d95094",
   "metadata": {},
   "outputs": [],
   "source": [
    "def play_game(width, length, lijst_containers,lege_env1):\n",
    "    lege_env = lege_env1.copy()\n",
    "    # laat paar keer random env creëeren en bereken score\n",
    "    \n",
    "    lijst = lijst_containers.copy()\n",
    "    # random vullen env\n",
    "    random_env = fill_environment(width, length, lijst, lege_env)\n",
    "    score = score_env(width,length,random_env)\n",
    "    return score, random_env"
   ]
  },
  {
   "cell_type": "code",
   "execution_count": 9,
   "id": "22c3c78d",
   "metadata": {},
   "outputs": [
    {
     "data": {
      "text/plain": [
       "(2,\n",
       "    left  middle  right\n",
       " 0     2       3      3\n",
       " 1     1       1      1\n",
       " 2     2       2      3)"
      ]
     },
     "execution_count": 9,
     "metadata": {},
     "output_type": "execute_result"
    }
   ],
   "source": [
    "game1 = play_game(3, 3, list_containers,df_env)\n",
    "game1"
   ]
  },
  {
   "cell_type": "markdown",
   "id": "f776c18b",
   "metadata": {},
   "source": [
    "---"
   ]
  },
  {
   "cell_type": "markdown",
   "id": "7a80ff01",
   "metadata": {},
   "source": [
    "## Reward per zet\n",
    "Voor het RL model zo is het nodig om per zet te kijken, dus per plaatsing van elke container. Daarbij deelt die penalty's en rewards uit. De totale game (alle 9 containers plaatsen) heeft dan een bepaalde score/totale reward. Hieronder wordt stap voor stap deze rewardfunctie opgebouwd en vervolgens een game gespeeld."
   ]
  },
  {
   "cell_type": "markdown",
   "id": "a904707f",
   "metadata": {},
   "source": [
    "De containers kunnen op elke plek op random volgorde geplaatst worden. Nu komen eerst de containers 1 binnen, dan 2 en dan de 3en. Dus de volgorde containers is nog niet random"
   ]
  },
  {
   "cell_type": "markdown",
   "id": "4ce9d1bf",
   "metadata": {},
   "source": [
    "### Penalty's en Rewards uitdelen per zet"
   ]
  },
  {
   "cell_type": "code",
   "execution_count": 10,
   "id": "25e80eb8",
   "metadata": {},
   "outputs": [],
   "source": [
    "def fill_and_reward(lijst_containers, dfenv):\n",
    "    env = dfenv.copy()\n",
    "    \n",
    "    list_ji = [[0,0],[0,1],[0,2],[1,0],[1,1],[1,2],[2,0],[2,1],[2,2]]\n",
    "    aantal_containers = len(lijst_containers)\n",
    "    \n",
    "    penalty_score = 0\n",
    "    reward_score = 0\n",
    "    \n",
    "    for a in range(0,aantal_containers):\n",
    "        ji = random.choice(list_ji)\n",
    "        j = ji[0] #row index\n",
    "        i = ji[1] #column index\n",
    "        \n",
    "        #Penalty's:\n",
    "        # zelfde getal in andere rij plaatsen:\n",
    "        foute_rij = False\n",
    "        for row in range(0,3):\n",
    "            if row != j and lijst_containers[a] in env.iloc[row,0:3].to_list() and lijst_containers[a] not in env.iloc[j,0:3].to_list():\n",
    "                foute_rij = True\n",
    "        if foute_rij == True:\n",
    "            penalty_score -= 1\n",
    "        # middelste leeg laten\n",
    "        if i == 0 and env.iloc[j,1] == 0 and env.iloc[j,2] != 0:\n",
    "            penalty_score -= 3\n",
    "        if i == 2 and env.iloc[j,1] == 0 and env.iloc[j,0] != 0:\n",
    "            penalty_score -= 3\n",
    "        # rechts of links naast ander getal\n",
    "        if i > 0 and env.iloc[j,i-1] != lijst_containers[a] and env.iloc[j,i-1] != 0:\n",
    "            penalty_score -= 1\n",
    "        if i < 2 and env.iloc[j,i+1] != lijst_containers[a] and env.iloc[j,i+1] != 0:\n",
    "            penalty_score -= 1\n",
    "        \n",
    "        #Rewards:\n",
    "        # naast zelfde getal\n",
    "        if i > 0 and env.iloc[j,i-1] == lijst_containers[a]:\n",
    "            reward_score += 2\n",
    "        if i < 2 and env.iloc[j,i+1] == lijst_containers[a]:\n",
    "            reward_score += 2\n",
    "        # in het midden van lege rij plaatsen\n",
    "        if env.iloc[j,0:3].to_list() == [0,0,0] and i == 1:\n",
    "            reward_score += 1\n",
    "        # rij van 3 compleet maken:\n",
    "\n",
    "        #Plaatsen\n",
    "        env.iloc[j,i] = lijst_containers[a]\n",
    "        \n",
    "        #Reward: rij van 3 compleet maken\n",
    "        if env.iloc[j,0:3].to_list() == ([1,1,1] or [2,2,2] or [3,3,3]):\n",
    "            reward_score += 2\n",
    "        \n",
    "        print(env)\n",
    "        print(\"\")\n",
    "        print(reward_score)\n",
    "        print(penalty_score)\n",
    "        print(\"\")\n",
    "        \n",
    "        #game over\n",
    "        if i == 1 and env.iloc[j,0] != 0 and env.iloc[j,2] != 0:\n",
    "            print(\"game over\")\n",
    "            print(\"\")\n",
    "        \n",
    "        list_ji.remove(ji)\n",
    "        \n",
    "    total_reward = reward_score + penalty_score\n",
    "    return env, total_reward"
   ]
  },
  {
   "cell_type": "markdown",
   "id": "24b5e714",
   "metadata": {},
   "source": [
    "Hieronder een voorbeeld. Je ziet daar hoe per zet de reward of penalty score veranderd. Aan het einde zie je dan de eindindeling met totale reward waarde van die game"
   ]
  },
  {
   "cell_type": "code",
   "execution_count": 11,
   "id": "ea9635e0",
   "metadata": {
    "scrolled": true
   },
   "outputs": [
    {
     "name": "stdout",
     "output_type": "stream",
     "text": [
      "   left  middle  right\n",
      "0     0       0      1\n",
      "1     0       0      0\n",
      "2     0       0      0\n",
      "\n",
      "0\n",
      "0\n",
      "\n",
      "   left  middle  right\n",
      "0     0       0      1\n",
      "1     0       0      1\n",
      "2     0       0      0\n",
      "\n",
      "0\n",
      "-1\n",
      "\n",
      "   left  middle  right\n",
      "0     0       0      1\n",
      "1     0       0      1\n",
      "2     0       1      0\n",
      "\n",
      "1\n",
      "-2\n",
      "\n",
      "   left  middle  right\n",
      "0     0       0      1\n",
      "1     0       2      1\n",
      "2     0       1      0\n",
      "\n",
      "1\n",
      "-3\n",
      "\n",
      "   left  middle  right\n",
      "0     0       0      1\n",
      "1     0       2      1\n",
      "2     0       1      2\n",
      "\n",
      "1\n",
      "-5\n",
      "\n",
      "   left  middle  right\n",
      "0     0       0      1\n",
      "1     0       2      1\n",
      "2     2       1      2\n",
      "\n",
      "1\n",
      "-6\n",
      "\n",
      "   left  middle  right\n",
      "0     3       0      1\n",
      "1     0       2      1\n",
      "2     2       1      2\n",
      "\n",
      "1\n",
      "-9\n",
      "\n",
      "   left  middle  right\n",
      "0     3       0      1\n",
      "1     3       2      1\n",
      "2     2       1      2\n",
      "\n",
      "1\n",
      "-11\n",
      "\n",
      "   left  middle  right\n",
      "0     3       3      1\n",
      "1     3       2      1\n",
      "2     2       1      2\n",
      "\n",
      "3\n",
      "-12\n",
      "\n",
      "game over\n",
      "\n"
     ]
    },
    {
     "data": {
      "text/plain": [
       "(   left  middle  right\n",
       " 0     3       3      1\n",
       " 1     3       2      1\n",
       " 2     2       1      2,\n",
       " -9)"
      ]
     },
     "execution_count": 11,
     "metadata": {},
     "output_type": "execute_result"
    }
   ],
   "source": [
    "#df_env_c = df_env.copy()\n",
    "fill_and_reward(list_containers, df_env)"
   ]
  },
  {
   "cell_type": "markdown",
   "id": "95aabf39",
   "metadata": {},
   "source": [
    "# Conclusie\n",
    "De score van de game hierboven is -9. Dat is een negatieve score dus niet heel goed. Je ziet in het eindresultaat dat er maar 2 containers goed naast elkaar geplaatst zijn, dus dit is niet heel gek. Daarnaast wordt er iets gedaan wat niet mag (er wordt een contianer tussen 2 containers in geplaatst), dus hiervoor heeft die ook een hoge penalty gekregen"
   ]
  },
  {
   "cell_type": "markdown",
   "id": "8eaae4e4",
   "metadata": {},
   "source": [
    "de game mag eigenlijk niet containers in het midden plaatsen als daar links en rechts al eentje staat. Voor nu zit er een penalty op, zodat de score lager is als die iets doet wat niet mag. Als het goed is kan de agent bij het RL model dan leren dat dat niet gunstig is en zal dat steeds minder gebeuren. Een andere optie is er een restrictie op zetten."
   ]
  },
  {
   "cell_type": "markdown",
   "id": "178ec19c",
   "metadata": {},
   "source": [
    "De volgorde van hoe de containers geplaatst worden is in dit voorbeeld vastgezet. Dit wordt aangepast voor de environment van het RL model. Verder zal er nog veel veranderen aan de reward functie in de volgende stappen van het onderzoek. Dit is een beginnetje en helpt om te begrijpen wat er moet gebeuren bij het vullen."
   ]
  }
 ],
 "metadata": {
  "kernelspec": {
   "display_name": "Python 3 (ipykernel)",
   "language": "python",
   "name": "python3"
  },
  "language_info": {
   "codemirror_mode": {
    "name": "ipython",
    "version": 3
   },
   "file_extension": ".py",
   "mimetype": "text/x-python",
   "name": "python",
   "nbconvert_exporter": "python",
   "pygments_lexer": "ipython3",
   "version": "3.9.15"
  }
 },
 "nbformat": 4,
 "nbformat_minor": 5
}
