{
 "cells": [
  {
   "cell_type": "markdown",
   "id": "7d3ef5ae",
   "metadata": {},
   "source": [
    "# Ingrediënten klusteren\n",
    "In de database staan heel veel ingredienten  die op elkaar lijken, maar net andere spelling hebben of in meervoud staan. Bijvoorbeeld 'zongedroogde tomaat' en 'zongedroogde tomaten' of 'olijf olie' en '(olijf) olie'. Daardoor kan er in twee recepten zowat hetzelfde ingrediënt zitten, maar toch op een andere plek een 1 of een 0 krijgen. Hier heb ik gewerkt aan code om dit soort gevallen te vinden en samen te voegen."
   ]
  },
  {
   "cell_type": "markdown",
   "id": "ae06c027",
   "metadata": {},
   "source": [
    "### Imports"
   ]
  },
  {
   "cell_type": "code",
   "execution_count": 28,
   "id": "5c217759",
   "metadata": {},
   "outputs": [],
   "source": [
    "import matplotlib.pyplot as plt\n",
    "import numpy as np\n",
    "from sklearn.model_selection import train_test_split\n",
    "from sklearn.model_selection import LeaveOneOut\n",
    "from sklearn.linear_model import LinearRegression, LogisticRegression\n",
    "from sklearn.metrics import mean_squared_error, r2_score\n",
    "import pandas as pd\n",
    "from IPython.display import display\n",
    "import random\n",
    "from sklearn.metrics import recall_score, confusion_matrix, accuracy_score"
   ]
  },
  {
   "cell_type": "markdown",
   "id": "a699cfae",
   "metadata": {},
   "source": [
    "### Data inlezen en bestuderen"
   ]
  },
  {
   "cell_type": "code",
   "execution_count": 29,
   "id": "77488861",
   "metadata": {},
   "outputs": [],
   "source": [
    "import pandas as pd\n",
    "from IPython.display import display\n",
    "\n",
    "tagsFile = \"tags\"\n",
    "ingredFile = \"ingredients\"\n",
    "\n",
    "df_ingredients = pd.read_csv(f\"/data/foodboost/{ingredFile}.csv\")\n",
    "df_tags = pd.read_csv(f\"/data/foodboost/{tagsFile}.csv\")"
   ]
  },
  {
   "cell_type": "code",
   "execution_count": 30,
   "id": "330588ad",
   "metadata": {},
   "outputs": [],
   "source": [
    "listoftags = df_tags['tag'].unique().tolist()\n",
    "list_of_recipes = df_tags['recipe'].unique().tolist()\n",
    "#tags = ['tags']"
   ]
  },
  {
   "cell_type": "code",
   "execution_count": 31,
   "id": "0225f3a4",
   "metadata": {
    "scrolled": true
   },
   "outputs": [
    {
     "data": {
      "text/html": [
       "<div>\n",
       "<style scoped>\n",
       "    .dataframe tbody tr th:only-of-type {\n",
       "        vertical-align: middle;\n",
       "    }\n",
       "\n",
       "    .dataframe tbody tr th {\n",
       "        vertical-align: top;\n",
       "    }\n",
       "\n",
       "    .dataframe thead th {\n",
       "        text-align: right;\n",
       "    }\n",
       "</style>\n",
       "<table border=\"1\" class=\"dataframe\">\n",
       "  <thead>\n",
       "    <tr style=\"text-align: right;\">\n",
       "      <th></th>\n",
       "      <th>Unnamed: 0</th>\n",
       "      <th>recipe</th>\n",
       "      <th>tag</th>\n",
       "    </tr>\n",
       "  </thead>\n",
       "  <tbody>\n",
       "    <tr>\n",
       "      <th>0</th>\n",
       "      <td>0</td>\n",
       "      <td>Kruidnoten met choco-discodip</td>\n",
       "      <td>hollands</td>\n",
       "    </tr>\n",
       "    <tr>\n",
       "      <th>1</th>\n",
       "      <td>1</td>\n",
       "      <td>Kruidnoten met choco-discodip</td>\n",
       "      <td>gebak</td>\n",
       "    </tr>\n",
       "    <tr>\n",
       "      <th>2</th>\n",
       "      <td>2</td>\n",
       "      <td>Kruidnoten met choco-discodip</td>\n",
       "      <td>gebak</td>\n",
       "    </tr>\n",
       "    <tr>\n",
       "      <th>3</th>\n",
       "      <td>3</td>\n",
       "      <td>Kruidnoten met choco-discodip</td>\n",
       "      <td>sinterklaas</td>\n",
       "    </tr>\n",
       "    <tr>\n",
       "      <th>4</th>\n",
       "      <td>4</td>\n",
       "      <td>Kruidnoten met choco-discodip</td>\n",
       "      <td>sinterklaasavond</td>\n",
       "    </tr>\n",
       "    <tr>\n",
       "      <th>...</th>\n",
       "      <td>...</td>\n",
       "      <td>...</td>\n",
       "      <td>...</td>\n",
       "    </tr>\n",
       "    <tr>\n",
       "      <th>46035</th>\n",
       "      <td>46035</td>\n",
       "      <td>Pittige truffels</td>\n",
       "      <td>nagerecht</td>\n",
       "    </tr>\n",
       "    <tr>\n",
       "      <th>46036</th>\n",
       "      <td>46036</td>\n",
       "      <td>Biefstuk met rodewijnsaus en ham</td>\n",
       "      <td>snel</td>\n",
       "    </tr>\n",
       "    <tr>\n",
       "      <th>46037</th>\n",
       "      <td>46037</td>\n",
       "      <td>Biefstuk met rodewijnsaus en ham</td>\n",
       "      <td>mediterraan</td>\n",
       "    </tr>\n",
       "    <tr>\n",
       "      <th>46038</th>\n",
       "      <td>46038</td>\n",
       "      <td>Biefstuk met rodewijnsaus en ham</td>\n",
       "      <td>hoofdgerecht</td>\n",
       "    </tr>\n",
       "    <tr>\n",
       "      <th>46039</th>\n",
       "      <td>46039</td>\n",
       "      <td>Biefstuk met rodewijnsaus en ham</td>\n",
       "      <td>bakken</td>\n",
       "    </tr>\n",
       "  </tbody>\n",
       "</table>\n",
       "<p>46040 rows × 3 columns</p>\n",
       "</div>"
      ],
      "text/plain": [
       "       Unnamed: 0                            recipe               tag\n",
       "0               0     Kruidnoten met choco-discodip          hollands\n",
       "1               1     Kruidnoten met choco-discodip             gebak\n",
       "2               2     Kruidnoten met choco-discodip             gebak\n",
       "3               3     Kruidnoten met choco-discodip       sinterklaas\n",
       "4               4     Kruidnoten met choco-discodip  sinterklaasavond\n",
       "...           ...                               ...               ...\n",
       "46035       46035                  Pittige truffels         nagerecht\n",
       "46036       46036  Biefstuk met rodewijnsaus en ham              snel\n",
       "46037       46037  Biefstuk met rodewijnsaus en ham       mediterraan\n",
       "46038       46038  Biefstuk met rodewijnsaus en ham      hoofdgerecht\n",
       "46039       46039  Biefstuk met rodewijnsaus en ham            bakken\n",
       "\n",
       "[46040 rows x 3 columns]"
      ]
     },
     "execution_count": 31,
     "metadata": {},
     "output_type": "execute_result"
    }
   ],
   "source": [
    "df_tags"
   ]
  },
  {
   "cell_type": "code",
   "execution_count": 32,
   "id": "df91368f",
   "metadata": {},
   "outputs": [
    {
     "data": {
      "text/html": [
       "<div>\n",
       "<style scoped>\n",
       "    .dataframe tbody tr th:only-of-type {\n",
       "        vertical-align: middle;\n",
       "    }\n",
       "\n",
       "    .dataframe tbody tr th {\n",
       "        vertical-align: top;\n",
       "    }\n",
       "\n",
       "    .dataframe thead th {\n",
       "        text-align: right;\n",
       "    }\n",
       "</style>\n",
       "<table border=\"1\" class=\"dataframe\">\n",
       "  <thead>\n",
       "    <tr style=\"text-align: right;\">\n",
       "      <th></th>\n",
       "      <th>Unnamed: 0</th>\n",
       "      <th>recipe</th>\n",
       "      <th>ingredient</th>\n",
       "      <th>quantity</th>\n",
       "      <th>unit</th>\n",
       "    </tr>\n",
       "  </thead>\n",
       "  <tbody>\n",
       "    <tr>\n",
       "      <th>0</th>\n",
       "      <td>0</td>\n",
       "      <td>Kruidnoten met choco-discodip</td>\n",
       "      <td>melkchocolade</td>\n",
       "      <td>100.0</td>\n",
       "      <td>g</td>\n",
       "    </tr>\n",
       "    <tr>\n",
       "      <th>1</th>\n",
       "      <td>1</td>\n",
       "      <td>Kruidnoten met choco-discodip</td>\n",
       "      <td>kruidnoten</td>\n",
       "      <td>100.0</td>\n",
       "      <td>g</td>\n",
       "    </tr>\n",
       "    <tr>\n",
       "      <th>2</th>\n",
       "      <td>2</td>\n",
       "      <td>Kruidnoten met choco-discodip</td>\n",
       "      <td>discodip</td>\n",
       "      <td>2.0</td>\n",
       "      <td>el</td>\n",
       "    </tr>\n",
       "    <tr>\n",
       "      <th>3</th>\n",
       "      <td>3</td>\n",
       "      <td>Kruidnoten in marsepein</td>\n",
       "      <td>blanke marsepein</td>\n",
       "      <td>150.0</td>\n",
       "      <td>g</td>\n",
       "    </tr>\n",
       "    <tr>\n",
       "      <th>4</th>\n",
       "      <td>4</td>\n",
       "      <td>Kruidnoten in marsepein</td>\n",
       "      <td>ongezouten roomboter</td>\n",
       "      <td>15.0</td>\n",
       "      <td>g</td>\n",
       "    </tr>\n",
       "    <tr>\n",
       "      <th>...</th>\n",
       "      <td>...</td>\n",
       "      <td>...</td>\n",
       "      <td>...</td>\n",
       "      <td>...</td>\n",
       "      <td>...</td>\n",
       "    </tr>\n",
       "    <tr>\n",
       "      <th>71804</th>\n",
       "      <td>71804</td>\n",
       "      <td>Biefstuk met rodewijnsaus en ham</td>\n",
       "      <td>olijfolie</td>\n",
       "      <td>4.0</td>\n",
       "      <td>el</td>\n",
       "    </tr>\n",
       "    <tr>\n",
       "      <th>71805</th>\n",
       "      <td>71805</td>\n",
       "      <td>Biefstuk met rodewijnsaus en ham</td>\n",
       "      <td>biefstukken</td>\n",
       "      <td>4.0</td>\n",
       "      <td>NaN</td>\n",
       "    </tr>\n",
       "    <tr>\n",
       "      <th>71806</th>\n",
       "      <td>71806</td>\n",
       "      <td>Biefstuk met rodewijnsaus en ham</td>\n",
       "      <td>boter</td>\n",
       "      <td>25.0</td>\n",
       "      <td>g</td>\n",
       "    </tr>\n",
       "    <tr>\n",
       "      <th>71807</th>\n",
       "      <td>71807</td>\n",
       "      <td>Biefstuk met rodewijnsaus en ham</td>\n",
       "      <td>serranoham</td>\n",
       "      <td>4.0</td>\n",
       "      <td>plakken</td>\n",
       "    </tr>\n",
       "    <tr>\n",
       "      <th>71808</th>\n",
       "      <td>71808</td>\n",
       "      <td>Biefstuk met rodewijnsaus en ham</td>\n",
       "      <td>rode wijn</td>\n",
       "      <td>200.0</td>\n",
       "      <td>ml</td>\n",
       "    </tr>\n",
       "  </tbody>\n",
       "</table>\n",
       "<p>71809 rows × 5 columns</p>\n",
       "</div>"
      ],
      "text/plain": [
       "       Unnamed: 0                            recipe            ingredient  \\\n",
       "0               0     Kruidnoten met choco-discodip         melkchocolade   \n",
       "1               1     Kruidnoten met choco-discodip            kruidnoten   \n",
       "2               2     Kruidnoten met choco-discodip              discodip   \n",
       "3               3           Kruidnoten in marsepein      blanke marsepein   \n",
       "4               4           Kruidnoten in marsepein  ongezouten roomboter   \n",
       "...           ...                               ...                   ...   \n",
       "71804       71804  Biefstuk met rodewijnsaus en ham             olijfolie   \n",
       "71805       71805  Biefstuk met rodewijnsaus en ham           biefstukken   \n",
       "71806       71806  Biefstuk met rodewijnsaus en ham                 boter   \n",
       "71807       71807  Biefstuk met rodewijnsaus en ham            serranoham   \n",
       "71808       71808  Biefstuk met rodewijnsaus en ham             rode wijn   \n",
       "\n",
       "       quantity     unit  \n",
       "0         100.0        g  \n",
       "1         100.0        g  \n",
       "2           2.0       el  \n",
       "3         150.0        g  \n",
       "4          15.0        g  \n",
       "...         ...      ...  \n",
       "71804       4.0       el  \n",
       "71805       4.0      NaN  \n",
       "71806      25.0        g  \n",
       "71807       4.0  plakken  \n",
       "71808     200.0       ml  \n",
       "\n",
       "[71809 rows x 5 columns]"
      ]
     },
     "execution_count": 32,
     "metadata": {},
     "output_type": "execute_result"
    }
   ],
   "source": [
    "df_ingredients"
   ]
  },
  {
   "cell_type": "markdown",
   "id": "0a915f94",
   "metadata": {},
   "source": [
    "### Basis functies"
   ]
  },
  {
   "cell_type": "code",
   "execution_count": 33,
   "id": "deebf782",
   "metadata": {},
   "outputs": [],
   "source": [
    "# geeft een lijst van alle recepten die een specifieke tag bevatten\n",
    "def recepten_bij_tag(tag):\n",
    "    a = df_tags.loc[df_tags['tag'] == tag].recipe.to_list()\n",
    "    return a\n",
    "\n",
    "# geeft een lijst van de tags die aan een recept gelinked zijn\n",
    "def tags_bij_recept(gerecht):\n",
    "    a = df_tags.loc[df_tags['recipe'] == gerecht].tag.to_list()\n",
    "    return a"
   ]
  },
  {
   "cell_type": "code",
   "execution_count": 35,
   "id": "70d351f8",
   "metadata": {},
   "outputs": [],
   "source": [
    "# lijst met alle tags die bij verzameling recepten hoort.\n",
    "def unieke_platte_lijst(gerechten_lijst):\n",
    "    list_of_tags = []\n",
    "    for i in gerechten_lijst:\n",
    "        list_of_tags.append(tags_bij_recept(i))\n",
    "    flatten = list(np.concatenate(list_of_tags).flat)\n",
    "    flatten = np.unique(np.array(flatten))\n",
    "    return flatten"
   ]
  },
  {
   "cell_type": "code",
   "execution_count": 37,
   "id": "71888153",
   "metadata": {},
   "outputs": [],
   "source": [
    "# geeft een lijst van de ingrediënten die in een recept zitten\n",
    "def ingredienten_bij_recept(gerecht):\n",
    "    a = df_ingredients.loc[df_ingredients['recipe'] == gerecht].ingredient.to_list()\n",
    "    return a"
   ]
  },
  {
   "cell_type": "markdown",
   "id": "ced76b90",
   "metadata": {},
   "source": [
    "### Dataset krimpen\n",
    "Omdat we in dit project alleen kijken naar avondeten recepten, heb ik hier de recepten met tags 'hoofdgerecht' en 'diner' geselecteerd voor de nieuwe dataset waar mee gewerkt wordt."
   ]
  },
  {
   "cell_type": "code",
   "execution_count": 39,
   "id": "7a29175c",
   "metadata": {},
   "outputs": [],
   "source": [
    "# alleen recepten met tag hoofdgerecht of diner selecteren\n",
    "diner_set1 = set(recepten_bij_tag('hoofdgerecht')) \n",
    "diner_set2 = set(recepten_bij_tag('diner')) \n",
    "diner = diner_set1.union(diner_set2)"
   ]
  },
  {
   "cell_type": "code",
   "execution_count": 40,
   "id": "e619dcd2",
   "metadata": {},
   "outputs": [],
   "source": [
    "kleine_df = df_ingredients[df_ingredients['recipe'].isin(diner)]"
   ]
  },
  {
   "cell_type": "code",
   "execution_count": 41,
   "id": "7d19448f",
   "metadata": {},
   "outputs": [],
   "source": [
    "list_of_ingredients = kleine_df['ingredient'].unique().tolist()"
   ]
  },
  {
   "cell_type": "code",
   "execution_count": 42,
   "id": "0717e351",
   "metadata": {},
   "outputs": [
    {
     "data": {
      "text/plain": [
       "5006"
      ]
     },
     "execution_count": 42,
     "metadata": {},
     "output_type": "execute_result"
    }
   ],
   "source": [
    "len(list_of_ingredients)"
   ]
  },
  {
   "cell_type": "markdown",
   "id": "df167f4b",
   "metadata": {},
   "source": [
    "Er zijn dus 5006 verschillende ingredienten in de dataset met alleen avondeten"
   ]
  },
  {
   "cell_type": "markdown",
   "id": "d867faff",
   "metadata": {},
   "source": [
    "### Groeperen en ingredienten count bekijken"
   ]
  },
  {
   "cell_type": "code",
   "execution_count": 43,
   "id": "03048e41",
   "metadata": {},
   "outputs": [],
   "source": [
    "teller = kleine_df.groupby(['ingredient']).recipe.count().to_frame()"
   ]
  },
  {
   "cell_type": "code",
   "execution_count": 44,
   "id": "7254d7e6",
   "metadata": {},
   "outputs": [
    {
     "data": {
      "text/html": [
       "<div>\n",
       "<style scoped>\n",
       "    .dataframe tbody tr th:only-of-type {\n",
       "        vertical-align: middle;\n",
       "    }\n",
       "\n",
       "    .dataframe tbody tr th {\n",
       "        vertical-align: top;\n",
       "    }\n",
       "\n",
       "    .dataframe thead th {\n",
       "        text-align: right;\n",
       "    }\n",
       "</style>\n",
       "<table border=\"1\" class=\"dataframe\">\n",
       "  <thead>\n",
       "    <tr style=\"text-align: right;\">\n",
       "      <th></th>\n",
       "      <th>recipe</th>\n",
       "    </tr>\n",
       "    <tr>\n",
       "      <th>ingredient</th>\n",
       "      <th></th>\n",
       "    </tr>\n",
       "  </thead>\n",
       "  <tbody>\n",
       "    <tr>\n",
       "      <th>(arachide)olie</th>\n",
       "      <td>80</td>\n",
       "    </tr>\n",
       "    <tr>\n",
       "      <th>(herten)biefstukken</th>\n",
       "      <td>1</td>\n",
       "    </tr>\n",
       "    <tr>\n",
       "      <th>(houdbare) melk</th>\n",
       "      <td>1</td>\n",
       "    </tr>\n",
       "    <tr>\n",
       "      <th>(magere) shoarmareepjes</th>\n",
       "      <td>1</td>\n",
       "    </tr>\n",
       "    <tr>\n",
       "      <th>(olijf)olie</th>\n",
       "      <td>107</td>\n",
       "    </tr>\n",
       "    <tr>\n",
       "      <th>...</th>\n",
       "      <td>...</td>\n",
       "    </tr>\n",
       "    <tr>\n",
       "      <th>zwarte-peperkorrel</th>\n",
       "      <td>1</td>\n",
       "    </tr>\n",
       "    <tr>\n",
       "      <th>zwarte-peperkorrels</th>\n",
       "      <td>5</td>\n",
       "    </tr>\n",
       "    <tr>\n",
       "      <th>zwarteolijvenplakjes</th>\n",
       "      <td>1</td>\n",
       "    </tr>\n",
       "    <tr>\n",
       "      <th>zwartepeperkorrel</th>\n",
       "      <td>2</td>\n",
       "    </tr>\n",
       "    <tr>\n",
       "      <th>zwijnsteak</th>\n",
       "      <td>1</td>\n",
       "    </tr>\n",
       "  </tbody>\n",
       "</table>\n",
       "<p>5006 rows × 1 columns</p>\n",
       "</div>"
      ],
      "text/plain": [
       "                         recipe\n",
       "ingredient                     \n",
       "(arachide)olie               80\n",
       "(herten)biefstukken           1\n",
       "(houdbare) melk               1\n",
       "(magere) shoarmareepjes       1\n",
       "(olijf)olie                 107\n",
       "...                         ...\n",
       "zwarte-peperkorrel            1\n",
       "zwarte-peperkorrels           5\n",
       "zwarteolijvenplakjes          1\n",
       "zwartepeperkorrel             2\n",
       "zwijnsteak                    1\n",
       "\n",
       "[5006 rows x 1 columns]"
      ]
     },
     "execution_count": 44,
     "metadata": {},
     "output_type": "execute_result"
    }
   ],
   "source": [
    "teller"
   ]
  },
  {
   "cell_type": "code",
   "execution_count": 45,
   "id": "369b809d",
   "metadata": {
    "scrolled": true
   },
   "outputs": [
    {
     "data": {
      "text/html": [
       "<div>\n",
       "<style scoped>\n",
       "    .dataframe tbody tr th:only-of-type {\n",
       "        vertical-align: middle;\n",
       "    }\n",
       "\n",
       "    .dataframe tbody tr th {\n",
       "        vertical-align: top;\n",
       "    }\n",
       "\n",
       "    .dataframe thead th {\n",
       "        text-align: right;\n",
       "    }\n",
       "</style>\n",
       "<table border=\"1\" class=\"dataframe\">\n",
       "  <thead>\n",
       "    <tr style=\"text-align: right;\">\n",
       "      <th></th>\n",
       "      <th>recipe</th>\n",
       "    </tr>\n",
       "    <tr>\n",
       "      <th>ingredient</th>\n",
       "      <th></th>\n",
       "    </tr>\n",
       "  </thead>\n",
       "  <tbody>\n",
       "    <tr>\n",
       "      <th>(herten)biefstukken</th>\n",
       "      <td>1</td>\n",
       "    </tr>\n",
       "    <tr>\n",
       "      <th>(houdbare) melk</th>\n",
       "      <td>1</td>\n",
       "    </tr>\n",
       "    <tr>\n",
       "      <th>(magere) shoarmareepjes</th>\n",
       "      <td>1</td>\n",
       "    </tr>\n",
       "    <tr>\n",
       "      <th>(wilde) perzik</th>\n",
       "      <td>1</td>\n",
       "    </tr>\n",
       "    <tr>\n",
       "      <th>(witte) quinoa</th>\n",
       "      <td>1</td>\n",
       "    </tr>\n",
       "    <tr>\n",
       "      <th>...</th>\n",
       "      <td>...</td>\n",
       "    </tr>\n",
       "    <tr>\n",
       "      <th>zwarte sesamzaadje</th>\n",
       "      <td>1</td>\n",
       "    </tr>\n",
       "    <tr>\n",
       "      <th>zwarte tagliatelle</th>\n",
       "      <td>1</td>\n",
       "    </tr>\n",
       "    <tr>\n",
       "      <th>zwarte-peperkorrel</th>\n",
       "      <td>1</td>\n",
       "    </tr>\n",
       "    <tr>\n",
       "      <th>zwarteolijvenplakjes</th>\n",
       "      <td>1</td>\n",
       "    </tr>\n",
       "    <tr>\n",
       "      <th>zwijnsteak</th>\n",
       "      <td>1</td>\n",
       "    </tr>\n",
       "  </tbody>\n",
       "</table>\n",
       "<p>2298 rows × 1 columns</p>\n",
       "</div>"
      ],
      "text/plain": [
       "                         recipe\n",
       "ingredient                     \n",
       "(herten)biefstukken           1\n",
       "(houdbare) melk               1\n",
       "(magere) shoarmareepjes       1\n",
       "(wilde) perzik                1\n",
       "(witte) quinoa                1\n",
       "...                         ...\n",
       "zwarte sesamzaadje            1\n",
       "zwarte tagliatelle            1\n",
       "zwarte-peperkorrel            1\n",
       "zwarteolijvenplakjes          1\n",
       "zwijnsteak                    1\n",
       "\n",
       "[2298 rows x 1 columns]"
      ]
     },
     "execution_count": 45,
     "metadata": {},
     "output_type": "execute_result"
    }
   ],
   "source": [
    "eenmalige_ingredients = teller[teller['recipe'] == 1]\n",
    "eenmalige_ingredients"
   ]
  },
  {
   "cell_type": "markdown",
   "id": "b047cf1c",
   "metadata": {},
   "source": [
    "Je ziet dat er 2298 van de 5006 ingrediënten maar 1 keer voor komt, waaronder bijvoorbeeld '(houdbare) melk' en 'zwarte-peperkorrel'. Nou zullen er veel meer recepten zijn die deze ingrediënten bevatten, maar dan met een andere spelling. Daarom willen we deze vinden en de ingredienten die sterk op elkaar lijken als hetzelfde zien."
   ]
  },
  {
   "cell_type": "markdown",
   "id": "ae098bc3",
   "metadata": {},
   "source": [
    "### Vergelijkbare Ingrediënten vinden\n",
    "Tijdens de DataCamp courses heb ik geleerd te werken met de fuzzywuzzy library. Deze ga ik nu gebruiken om recepten te vinden die sterk overeenkomen. "
   ]
  },
  {
   "cell_type": "code",
   "execution_count": 46,
   "id": "45b4e94b",
   "metadata": {},
   "outputs": [],
   "source": [
    "from fuzzywuzzy import fuzz, process"
   ]
  },
  {
   "cell_type": "code",
   "execution_count": 47,
   "id": "c1fb25d4",
   "metadata": {},
   "outputs": [],
   "source": [
    "# Deze functie vind de string die t meest op meegegeven string lijken uit ingredienten.\n",
    "def find_most_simular(string, limit):\n",
    "    ingredient_lijst = df_ingredients['ingredient'].unique()\n",
    "    return process.extract(string, ingredient_lijst, limit=limit)\n",
    "    # process.extract kijkt in hoeveel stappen je van de ene string naar de andere kan. Hoe minder stappen nodig zijn, hoe hoger het percentage"
   ]
  },
  {
   "cell_type": "code",
   "execution_count": 48,
   "id": "fbe5c903",
   "metadata": {
    "scrolled": true
   },
   "outputs": [
    {
     "data": {
      "text/plain": [
       "[('bloemkool', 100),\n",
       " ('bloem', 90),\n",
       " ('koelverse bloemkoolroosjes', 90),\n",
       " ('koelverse bloemkoolrijst', 90),\n",
       " ('koelverse bloemkool- en broccoliroosjes', 90),\n",
       " ('koelvers bloemkoolroosje', 90),\n",
       " ('Bonduelle diepvries bloemkoolrijst', 90),\n",
       " ('kleine bloemkool', 90),\n",
       " ('koelverse broccoli, wortel, bloemkool', 90),\n",
       " ('bloemkoolroosjes', 90),\n",
       " ('bloemkoolrijst', 90),\n",
       " ('bloemkool- en broccoliroosjes', 90),\n",
       " ('bloemkoolpizzabodem', 90),\n",
       " ('Fairtrade Original Libanese geroosterde bloemkool kruidenpasta', 90),\n",
       " ('Magioni bloemkoolpizzabodem', 90),\n",
       " ('AH Biologisch bloemkool', 90),\n",
       " ('koelverse minibloemkool en -broccoli', 90),\n",
       " ('ovengroente pompoen, zoete aardappel en bloemkool', 90),\n",
       " ('bloemkool &amp; broccoli', 90),\n",
       " ('diepvries bloemkoolroosjes', 90),\n",
       " ('mix voor gehakt met bloemkool', 90),\n",
       " ('boerenkool', 74),\n",
       " ('rodekool', 71),\n",
       " ('palmkool', 71),\n",
       " ('zonnebloemolie', 70)]"
      ]
     },
     "execution_count": 48,
     "metadata": {},
     "output_type": "execute_result"
    }
   ],
   "source": [
    "find_most_simular('bloemkool', 25)"
   ]
  },
  {
   "cell_type": "markdown",
   "id": "eddb348e",
   "metadata": {},
   "source": [
    "Dit voorbeeld hierboven (van bloemkool) heb ik voor meerdere ingredienten gedaan en gezien dat als het onder de 90 komt, het niet meer heel erg erop lijkt. Daar heb ik in de functie hieronder gewerkt met >= 90."
   ]
  },
  {
   "cell_type": "code",
   "execution_count": 49,
   "id": "333696d1",
   "metadata": {},
   "outputs": [],
   "source": [
    "# functie lijst van alle simulars die 90 of meer overeenkomen\n",
    "def find_simular_list(string):\n",
    "    list_simulars = []\n",
    "    ingredient_lijst = df_ingredients['ingredient'].unique()\n",
    "    list_simulars1 = process.extract(string, ingredient_lijst, limit = df_ingredients.shape[0])\n",
    "    for simular in list_simulars1:\n",
    "        if simular[1] >= 90:\n",
    "            list_simulars.append(simular)\n",
    "    return list_simulars"
   ]
  },
  {
   "cell_type": "code",
   "execution_count": 50,
   "id": "5bd6bf80",
   "metadata": {
    "scrolled": true
   },
   "outputs": [
    {
     "data": {
      "text/plain": [
       "[('bloemkool', 100),\n",
       " ('bloem', 90),\n",
       " ('koelverse bloemkoolroosjes', 90),\n",
       " ('koelverse bloemkoolrijst', 90),\n",
       " ('koelverse bloemkool- en broccoliroosjes', 90),\n",
       " ('koelvers bloemkoolroosje', 90),\n",
       " ('Bonduelle diepvries bloemkoolrijst', 90),\n",
       " ('kleine bloemkool', 90),\n",
       " ('koelverse broccoli, wortel, bloemkool', 90),\n",
       " ('bloemkoolroosjes', 90),\n",
       " ('bloemkoolrijst', 90),\n",
       " ('bloemkool- en broccoliroosjes', 90),\n",
       " ('bloemkoolpizzabodem', 90),\n",
       " ('Fairtrade Original Libanese geroosterde bloemkool kruidenpasta', 90),\n",
       " ('Magioni bloemkoolpizzabodem', 90),\n",
       " ('AH Biologisch bloemkool', 90),\n",
       " ('koelverse minibloemkool en -broccoli', 90),\n",
       " ('ovengroente pompoen, zoete aardappel en bloemkool', 90),\n",
       " ('bloemkool &amp; broccoli', 90),\n",
       " ('diepvries bloemkoolroosjes', 90),\n",
       " ('mix voor gehakt met bloemkool', 90)]"
      ]
     },
     "execution_count": 50,
     "metadata": {},
     "output_type": "execute_result"
    }
   ],
   "source": [
    "find_simular_list('bloemkool') # geeft alle ingredienten met score 90 of hoger"
   ]
  },
  {
   "cell_type": "markdown",
   "id": "b50e250a",
   "metadata": {},
   "source": [
    "### Onderzoek naar ingredienten met count 1\n",
    "Net hadden we in de df 'teller'gezien dat er veel ingredienten waren die 1 keer voor kwamen. Hieronder kijk ik welke van deze ingreidienten veel (meer dan 20) sterk verwante ingredienten hebben. Deze zijn relevant mee te nemen."
   ]
  },
  {
   "cell_type": "code",
   "execution_count": 51,
   "id": "d8064a36",
   "metadata": {},
   "outputs": [],
   "source": [
    "# functie die bepaald hoeveel simulars van 90% of hoger een ingredient heeft\n",
    "def get_len_sims(i):\n",
    "    string = eenmalige_ingredients.index[i]\n",
    "    lijst_sims = find_simular_list(string)\n",
    "    return len(lijst_sims)"
   ]
  },
  {
   "cell_type": "code",
   "execution_count": 53,
   "id": "cd495b52",
   "metadata": {},
   "outputs": [],
   "source": [
    "gekozen_ingredients = []\n",
    "for i in range(0, len(eenmalige_ingredients)):\n",
    "    lengte = get_len_sims(i)\n",
    "    if lengte >= 20:\n",
    "        gekozen_ingredients.append(str(eenmalige_ingredients.index[i]))"
   ]
  },
  {
   "cell_type": "code",
   "execution_count": 55,
   "id": "84550031",
   "metadata": {
    "scrolled": true
   },
   "outputs": [
    {
     "data": {
      "text/plain": [
       "['Italiaanse',\n",
       " 'amandelen',\n",
       " 'chili',\n",
       " 'cola',\n",
       " 'gerookte',\n",
       " 'kippen',\n",
       " 'kook',\n",
       " 'kruidenmix',\n",
       " 'linzen',\n",
       " 'peper',\n",
       " 'pure chocolade',\n",
       " 'roomboter',\n",
       " 'roomkaas',\n",
       " 'rosé',\n",
       " 'zalm']"
      ]
     },
     "execution_count": 55,
     "metadata": {},
     "output_type": "execute_result"
    }
   ],
   "source": [
    "gekozen_ingredients"
   ]
  },
  {
   "cell_type": "markdown",
   "id": "467cbeff",
   "metadata": {},
   "source": [
    "# Conclusie\n",
    "Uiteindelijk is dit bij het project Foodboost niet gebruikt, omdat wij ontdekte dat het niet heel veel toe zou voegen en op sommige punten het model juist ook slechter kan maken. Het schrijven van een functie die de dataset aanpast hebben wij daarom niet meer gedaan. Wel heb ik hiermee laten zien wat ik kan op het gebied van Data preprocessing."
   ]
  }
 ],
 "metadata": {
  "kernelspec": {
   "display_name": "Python 3 (ipykernel)",
   "language": "python",
   "name": "python3"
  },
  "language_info": {
   "codemirror_mode": {
    "name": "ipython",
    "version": 3
   },
   "file_extension": ".py",
   "mimetype": "text/x-python",
   "name": "python",
   "nbconvert_exporter": "python",
   "pygments_lexer": "ipython3",
   "version": "3.9.15"
  }
 },
 "nbformat": 4,
 "nbformat_minor": 5
}
